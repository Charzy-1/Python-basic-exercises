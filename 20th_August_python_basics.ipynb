{
 "cells": [
  {
   "cell_type": "markdown",
   "id": "a2b9b823-ce64-4215-bef2-42ea47da9333",
   "metadata": {
    "jupyter": {
     "source_hidden": true
    },
    "tags": []
   },
   "source": [
    "### The line of code below reverses a string"
   ]
  },
  {
   "cell_type": "code",
   "execution_count": 2,
   "id": "5bcdf5e7-707d-4296-94c8-34c057c199c6",
   "metadata": {},
   "outputs": [],
   "source": [
    "my_strg = 'My God is able'"
   ]
  },
  {
   "cell_type": "code",
   "execution_count": 16,
   "id": "df3aaded-c14e-4e03-aeab-49d9528aa9a7",
   "metadata": {},
   "outputs": [
    {
     "data": {
      "text/plain": [
       "'elba si doG yM'"
      ]
     },
     "execution_count": 16,
     "metadata": {},
     "output_type": "execute_result"
    }
   ],
   "source": [
    "#Reversing mystring\n",
    "my_strg[::-1]"
   ]
  },
  {
   "cell_type": "markdown",
   "id": "7401c6a0-de35-4027-8fff-943fc8277818",
   "metadata": {},
   "source": [
    "### Checking if the string is palindrome"
   ]
  },
  {
   "cell_type": "code",
   "execution_count": 17,
   "id": "e9a90334-28d0-4f1e-91bb-634d6c1f9766",
   "metadata": {},
   "outputs": [
    {
     "data": {
      "text/plain": [
       "'The string is not a palindrome.'"
      ]
     },
     "execution_count": 17,
     "metadata": {},
     "output_type": "execute_result"
    }
   ],
   "source": [
    "\n",
    "cleaned_str = my_strg.replace(\" \", \"\").lower()\n",
    "is_palindrome = my_strg == my_strg[::-1]\n",
    "output = [\"not a\", \"\"][is_palindrome]\n",
    "\n",
    "# using the f sting format \n",
    "output = (f\"The string is {output} palindrome.\")\n",
    "\n",
    "#print to check the output\n",
    "output"
   ]
  },
  {
   "cell_type": "markdown",
   "id": "ebc22293-5679-4bdb-90a3-361c6f2222e1",
   "metadata": {},
   "source": [
    "### Convert same string to uppercase."
   ]
  },
  {
   "cell_type": "code",
   "execution_count": 18,
   "id": "11aad2ef-4dbc-42f8-910e-3aedebc2575d",
   "metadata": {},
   "outputs": [
    {
     "data": {
      "text/plain": [
       "'MY GOD IS ABLE'"
      ]
     },
     "execution_count": 18,
     "metadata": {},
     "output_type": "execute_result"
    }
   ],
   "source": [
    "my_strg.upper()"
   ]
  },
  {
   "cell_type": "markdown",
   "id": "9072aa37-58ad-4fd0-8360-b5f31324d6a7",
   "metadata": {},
   "source": [
    "### Convert same string to lowercase."
   ]
  },
  {
   "cell_type": "code",
   "execution_count": 19,
   "id": "cf7c2d4f-8228-4c3e-8b3d-9cbfec6447fe",
   "metadata": {},
   "outputs": [
    {
     "data": {
      "text/plain": [
       "'my god is able'"
      ]
     },
     "execution_count": 19,
     "metadata": {},
     "output_type": "execute_result"
    }
   ],
   "source": [
    "my_strg.lower()"
   ]
  },
  {
   "cell_type": "markdown",
   "id": "45d8d2ea-d72e-4b6d-9f16-e4474c762a0a",
   "metadata": {},
   "source": [
    "### Count the number of vowels in the string"
   ]
  },
  {
   "cell_type": "code",
   "execution_count": 23,
   "id": "67b8ed67-0a3c-4f94-b111-5aef7a08df19",
   "metadata": {},
   "outputs": [
    {
     "data": {
      "text/plain": [
       "'The number of vowels present in the string is: 4'"
      ]
     },
     "execution_count": 23,
     "metadata": {},
     "output_type": "execute_result"
    }
   ],
   "source": [
    "vowels = \"aeiouAEIOU\"\n",
    "vowel_count = 0\n",
    "\n",
    "#Using for loop\n",
    "for char in my_strg:\n",
    "    if char in vowels:\n",
    "        vowel_count += 1\n",
    "\n",
    "vowel_count = (f'The number of vowels present in the string is: {vowel_count}')\n",
    "vowel_count"
   ]
  },
  {
   "cell_type": "markdown",
   "id": "6752ab5d-d267-4461-90ff-8da0e1575c3d",
   "metadata": {},
   "source": [
    "### Count the number of consonants in a string."
   ]
  },
  {
   "cell_type": "code",
   "execution_count": 41,
   "id": "974f3435-0985-4d01-be26-02594fcfcf28",
   "metadata": {},
   "outputs": [
    {
     "data": {
      "text/plain": [
       "'The number of vowels present in the string is: 7'"
      ]
     },
     "execution_count": 41,
     "metadata": {},
     "output_type": "execute_result"
    }
   ],
   "source": [
    "consonants = 'BCDFGHJKLMNPQRSTVWXYXbcdfghjklmnpqrstvwxyx'\n",
    "consonant_count = 0\n",
    "\n",
    "#Using for loop\n",
    "for char in my_strg:\n",
    "    if char in consonants:\n",
    "        consonant_count += 1\n",
    "\n",
    "consonant_count = (f'The number of vowels present in the string is: {consonant_count}')\n",
    "consonant_count"
   ]
  },
  {
   "cell_type": "markdown",
   "id": "6afb8150-c6f1-473a-8b45-e8f0bc1f8e6b",
   "metadata": {},
   "source": [
    "### Remove all whitespaces from a string"
   ]
  },
  {
   "cell_type": "code",
   "execution_count": 42,
   "id": "c3f81fe6-2b2e-41b2-bc43-6a59a24652ef",
   "metadata": {},
   "outputs": [
    {
     "data": {
      "text/plain": [
       "'You are God'"
      ]
     },
     "execution_count": 42,
     "metadata": {},
     "output_type": "execute_result"
    }
   ],
   "source": [
    "strg = '    You are God  '\n",
    "strg.strip()"
   ]
  },
  {
   "cell_type": "markdown",
   "id": "eaeeca93-a88b-44c9-bfe2-229c57693669",
   "metadata": {},
   "source": [
    "### Find the length of a string without using the `len()` function."
   ]
  },
  {
   "cell_type": "code",
   "execution_count": 43,
   "id": "3f5ba4b4-c368-4917-b804-ad3e2dfc22fe",
   "metadata": {},
   "outputs": [
    {
     "data": {
      "text/plain": [
       "'The lenght of my string is: 14'"
      ]
     },
     "execution_count": 43,
     "metadata": {},
     "output_type": "execute_result"
    }
   ],
   "source": [
    "strg_lenght = 0\n",
    "\n",
    "#Looping through my string\n",
    "for characters in my_strg:\n",
    "    strg_lenght += 1\n",
    "\n",
    "strg_lenght = (f'The lenght of my string is: {strg_lenght}')\n",
    "strg_lenght"
   ]
  },
  {
   "cell_type": "markdown",
   "id": "7f3da241-ff4b-4478-af4d-4ce4b9f494bd",
   "metadata": {},
   "source": [
    "### Check if a my string contains a specific word."
   ]
  },
  {
   "cell_type": "code",
   "execution_count": 46,
   "id": "94b0c42c-d678-4edc-be8f-686c8320055e",
   "metadata": {},
   "outputs": [
    {
     "name": "stdin",
     "output_type": "stream",
     "text": [
      "Enter a word reliable\n"
     ]
    },
    {
     "name": "stdout",
     "output_type": "stream",
     "text": [
      "No reliable is not found in my string\n"
     ]
    }
   ],
   "source": [
    "specific_word = input('Enter a word')\n",
    "\n",
    "if specific_word in my_strg:\n",
    "    print(f'Yes {specific_word} is present in my string')\n",
    "\n",
    "else:\n",
    "     print(f'No {specific_word} is not found in my string')\n",
    "    \n",
    "\n"
   ]
  },
  {
   "cell_type": "markdown",
   "id": "eb6a34db-1516-422b-b305-718787fcfd8d",
   "metadata": {},
   "source": [
    "### Replace a word in my string with another word."
   ]
  },
  {
   "cell_type": "code",
   "execution_count": 49,
   "id": "5a958011-0db7-4de2-a49b-44c353d60225",
   "metadata": {},
   "outputs": [
    {
     "data": {
      "text/plain": [
       "'My God is awesome'"
      ]
     },
     "execution_count": 49,
     "metadata": {},
     "output_type": "execute_result"
    }
   ],
   "source": [
    "my_strg.replace('able', 'awesome')"
   ]
  },
  {
   "cell_type": "markdown",
   "id": "31d4cb03-f15b-4e7a-83df-5e85c8699f43",
   "metadata": {},
   "source": [
    "###  Count the occurrences of a word in a string"
   ]
  },
  {
   "cell_type": "code",
   "execution_count": 3,
   "id": "92eba4fd-9b67-4aa8-95c2-ed83a162d0b9",
   "metadata": {},
   "outputs": [
    {
     "name": "stdout",
     "output_type": "stream",
     "text": [
      "The word 'able' appears 1 times in the string.\n"
     ]
    }
   ],
   "source": [
    "# Word to count\n",
    "word_to_count = \"able\"\n",
    "\n",
    "# Split the string into words\n",
    "words = my_strg.split()\n",
    "\n",
    "# Initialize a count variable\n",
    "count = 0\n",
    "\n",
    "# Iterate through the words and count occurrences\n",
    "for word in words:\n",
    "    if word == word_to_count:\n",
    "        count += 1\n",
    "\n",
    "# Display the count\n",
    "print(f\"The word '{word_to_count}' appears {count} times in the string.\")"
   ]
  },
  {
   "cell_type": "markdown",
   "id": "f5afef61-27f6-4d94-be38-15bb6454f53b",
   "metadata": {},
   "source": [
    "### Find the first occurrence of a word in a string"
   ]
  },
  {
   "cell_type": "code",
   "execution_count": 11,
   "id": "c2af6d4e-648e-4a28-af5e-46f17c5cbe3e",
   "metadata": {},
   "outputs": [
    {
     "data": {
      "text/plain": [
       "2"
      ]
     },
     "execution_count": 11,
     "metadata": {},
     "output_type": "execute_result"
    }
   ],
   "source": [
    "input_string = \"This is a sample sentence.\"\n",
    "index = input_string.find(\"is\")\n",
    "# index will be 2, which is the position where \"is\" first appears.\n",
    "index"
   ]
  },
  {
   "cell_type": "markdown",
   "id": "0e5e973b-a7da-45c1-b436-d6b8f6c22a9e",
   "metadata": {},
   "source": [
    "### Find the last occurrence of a word in a string."
   ]
  },
  {
   "cell_type": "code",
   "execution_count": 9,
   "id": "c0d60f87-d4d2-4582-9b16-89cde54fa97c",
   "metadata": {},
   "outputs": [
    {
     "data": {
      "text/plain": [
       "2"
      ]
     },
     "execution_count": 9,
     "metadata": {},
     "output_type": "execute_result"
    }
   ],
   "source": [
    "input_string = \"This is a sample sentence.\"\n",
    "index = input_string.find(\"is\")\n",
    "# index will be 2, which is the position where \"is\" first appears.\n",
    "index"
   ]
  },
  {
   "cell_type": "code",
   "execution_count": 14,
   "id": "7f10c9f6-440a-41b5-9cb0-e6f9a0915067",
   "metadata": {},
   "outputs": [
    {
     "data": {
      "text/plain": [
       "5"
      ]
     },
     "execution_count": 14,
     "metadata": {},
     "output_type": "execute_result"
    }
   ],
   "source": [
    "# Find the last occurrence of a word in a string\n",
    "\n",
    "input_string = \"This is a sample sentence.\"\n",
    "index = input_string.rfind(\"is\")\n",
    "# index will be 5, which is the position where the last \"is\" appears.\n",
    "index"
   ]
  },
  {
   "cell_type": "markdown",
   "id": "575754d5-6bc4-420f-a422-20a03cdf3e3a",
   "metadata": {},
   "source": [
    "### Split a string into a list of words"
   ]
  },
  {
   "cell_type": "code",
   "execution_count": 16,
   "id": "27b6cd14-6ad4-4f9f-9926-7378efbb47b7",
   "metadata": {},
   "outputs": [
    {
     "data": {
      "text/plain": [
       "['This', 'is', 'a', 'sample', 'sentence.']"
      ]
     },
     "execution_count": 16,
     "metadata": {},
     "output_type": "execute_result"
    }
   ],
   "source": [
    "# split using .split funtion by default\n",
    "\n",
    "input_string.split()"
   ]
  },
  {
   "cell_type": "markdown",
   "id": "764224fb-7740-4445-9579-6fd3bf7fd0fd",
   "metadata": {},
   "source": [
    " ### Join a list of words into a string.\n"
   ]
  },
  {
   "cell_type": "code",
   "execution_count": 18,
   "id": "dec1f6d6-b773-4cd2-aad6-f0221326f2b8",
   "metadata": {},
   "outputs": [
    {
     "data": {
      "text/plain": [
       "'This is a sample sentence.'"
      ]
     },
     "execution_count": 18,
     "metadata": {},
     "output_type": "execute_result"
    }
   ],
   "source": [
    "joined_list = ''.join(input_string)\n",
    "\n",
    "joined_list"
   ]
  },
  {
   "cell_type": "markdown",
   "id": "cfa9361c-51a8-4f7d-90ed-39b3015e5174",
   "metadata": {},
   "source": [
    "### Convert a string where words are separated by spaces to one where words are separated by underscores.\n"
   ]
  },
  {
   "cell_type": "code",
   "execution_count": 25,
   "id": "aaae0182-4804-41ab-982a-f155d1f26fcb",
   "metadata": {},
   "outputs": [
    {
     "data": {
      "text/plain": [
       "'This_is_a_sample_sentence.'"
      ]
     },
     "execution_count": 25,
     "metadata": {},
     "output_type": "execute_result"
    }
   ],
   "source": [
    "result_string = input_string.replace(' ', '_')\n",
    "result_string"
   ]
  },
  {
   "cell_type": "markdown",
   "id": "84ffec96-d8f9-4365-9e99-73a3f863dcf4",
   "metadata": {},
   "source": [
    "### Convert a string to title case"
   ]
  },
  {
   "cell_type": "code",
   "execution_count": 7,
   "id": "db953932-696b-4e3d-9d93-03e360877ab8",
   "metadata": {},
   "outputs": [
    {
     "data": {
      "text/plain": [
       "'Behold The Lamb Of God'"
      ]
     },
     "execution_count": 7,
     "metadata": {},
     "output_type": "execute_result"
    }
   ],
   "source": [
    "normal_string = 'Behold the lamb of God'\n",
    "\n",
    "# converting to title case\n",
    "normal_string.title()"
   ]
  },
  {
   "cell_type": "markdown",
   "id": "df54fd91-0c63-48a0-8231-4058ff4e8b6c",
   "metadata": {},
   "source": [
    "### Find the longest word in a string"
   ]
  },
  {
   "cell_type": "code",
   "execution_count": 34,
   "id": "0955e948-c358-43e0-af43-0a47437f25b0",
   "metadata": {},
   "outputs": [
    {
     "name": "stdout",
     "output_type": "stream",
     "text": [
      "The longest word in the string is 'righteousness\n"
     ]
    }
   ],
   "source": [
    "# input sentence\n",
    "\n",
    "sentence = 'I am the righteousness of God'\n",
    "\n",
    "# spliting the sentence\n",
    "\n",
    "words = sentence.split()\n",
    "\n",
    "longest_word = ''\n",
    "max_length = 0\n",
    "\n",
    "for word in words:\n",
    "    if len(word) > max_length:\n",
    "        longest_word = word\n",
    "        max_length = len(word)\n",
    "        \n",
    "# Print the longest word\n",
    "print(f\"The longest word in the string is '{longest_word}\")"
   ]
  },
  {
   "cell_type": "markdown",
   "id": "e04a3977-3307-4549-8028-237343928906",
   "metadata": {},
   "source": [
    "### Find the shortest word in a string"
   ]
  },
  {
   "cell_type": "code",
   "execution_count": 36,
   "id": "b64280dd-0c45-4240-af3e-6ab7137834fe",
   "metadata": {},
   "outputs": [
    {
     "name": "stdout",
     "output_type": "stream",
     "text": [
      "The longest word in the string is 'I\n"
     ]
    }
   ],
   "source": [
    "# spliting the sentence\n",
    "\n",
    "words = sentence.split()\n",
    "\n",
    "longest_word = ''\n",
    "min_length = 1\n",
    "\n",
    "for word in words:\n",
    "    if len(word) <= max_length:\n",
    "        shortest_word = word\n",
    "        min_length = len(word)\n",
    "        \n",
    "# Print the longest word\n",
    "print(f\"The longest word in the string is '{shortest_word}\")"
   ]
  },
  {
   "cell_type": "markdown",
   "id": "78520fd6-2144-4f71-b69b-cf54765c6ce9",
   "metadata": {},
   "source": [
    "### Reverse the order of words in a string."
   ]
  },
  {
   "cell_type": "code",
   "execution_count": 41,
   "id": "1b45ae33-eff9-4004-97d3-b4c8386b0465",
   "metadata": {},
   "outputs": [
    {
     "name": "stdout",
     "output_type": "stream",
     "text": [
      "happen to continue will best the Only\n"
     ]
    }
   ],
   "source": [
    "# Input string\n",
    "sentence1 = \"Only the best will continue to happen\"\n",
    "\n",
    "# Split the string into words\n",
    "words = sentence1.split()\n",
    "\n",
    "# Reverse the order of words\n",
    "words.reverse()\n",
    "\n",
    "# Join the reversed words back into a string\n",
    "reversed_sentence = \" \".join(words)\n",
    "\n",
    "# Print the reversed string\n",
    "print(reversed_sentence)"
   ]
  },
  {
   "cell_type": "markdown",
   "id": "27f8b0cb-82e4-4324-970e-1e2945ef24c5",
   "metadata": {},
   "source": [
    "### Check if a string is alphanumeric."
   ]
  },
  {
   "cell_type": "code",
   "execution_count": 43,
   "id": "ea9cd1db-4899-4353-a026-556c923e4c15",
   "metadata": {},
   "outputs": [
    {
     "name": "stdout",
     "output_type": "stream",
     "text": [
      "The string is alphanumeric.\n"
     ]
    }
   ],
   "source": [
    "# Input string\n",
    "imput = \"Beautiful123\"\n",
    "\n",
    "# Check if the string is alphanumeric\n",
    "if imput.isalnum():\n",
    "    print(\"The string is alphanumeric.\")\n",
    "else:\n",
    "    print(\"The string is not alphanumeric.\")"
   ]
  },
  {
   "cell_type": "markdown",
   "id": "4bc1dec8-56be-4ede-9f8a-9cabc976776c",
   "metadata": {},
   "source": [
    "### Extract all digits from a string."
   ]
  },
  {
   "cell_type": "code",
   "execution_count": 45,
   "id": "204a54dd-2499-4736-8bbd-ef749a2cf9b4",
   "metadata": {},
   "outputs": [
    {
     "name": "stdout",
     "output_type": "stream",
     "text": [
      "Extracted digits: 1233820\n"
     ]
    }
   ],
   "source": [
    "# Input string\n",
    "input_string = \"Hello123, the price is $38.20.\"\n",
    "\n",
    "# Initialize an empty string to store the extracted digits\n",
    "extracted_digits = \"\"\n",
    "\n",
    "# Iterate through each character in the string\n",
    "for char in input_string:\n",
    "    if char.isdigit():\n",
    "        extracted_digits += char\n",
    "\n",
    "# Print the extracted digits\n",
    "print(\"Extracted digits:\", extracted_digits)"
   ]
  },
  {
   "cell_type": "markdown",
   "id": "16dd4213-762a-46b1-b6a8-1c8cc8e98da5",
   "metadata": {},
   "source": [
    "### Extract all alphabets from a string."
   ]
  },
  {
   "cell_type": "code",
   "execution_count": 1,
   "id": "b53147b1-064e-4fab-98f3-247a74e71b6f",
   "metadata": {},
   "outputs": [
    {
     "name": "stdout",
     "output_type": "stream",
     "text": [
      "Extracted alphabetic characters: Hellotherealamountis\n"
     ]
    }
   ],
   "source": [
    "# Input string\n",
    "sentence2 = \"Hello123, the real amount is $38.20.\"\n",
    "\n",
    "# Initialize an empty string to store the extracted alphabetic characters\n",
    "alpha_chars = \"\"\n",
    "\n",
    "# Iterate through each character in the string\n",
    "for char in sentence2:\n",
    "    if char.isalpha():\n",
    "        alpha_chars += char\n",
    "\n",
    "# Print the extracted alphabetic characters\n",
    "print(\"Extracted alphabetic characters:\", alpha_chars)"
   ]
  },
  {
   "cell_type": "markdown",
   "id": "03b10371-d834-432d-bf16-c493e7668771",
   "metadata": {},
   "source": [
    "### Count the number of uppercase letters in a string.\n"
   ]
  },
  {
   "cell_type": "code",
   "execution_count": 9,
   "id": "8477c800-dc54-4214-9105-ab0577a0e301",
   "metadata": {},
   "outputs": [
    {
     "name": "stdout",
     "output_type": "stream",
     "text": [
      "Number of uppercase letters: 5\n"
     ]
    }
   ],
   "source": [
    "# Input string\n",
    "input_string = \"Hello, World! How Are You?\"\n",
    "\n",
    "# Initialize a variable to count uppercase letters\n",
    "uppercase_count = 0\n",
    "\n",
    "# Iterate through each character in the string\n",
    "for char in input_string:\n",
    "    if char.isupper():\n",
    "        uppercase_count += 1\n",
    "\n",
    "# Print the count of uppercase letters\n",
    "print(\"Number of uppercase letters:\", uppercase_count)"
   ]
  },
  {
   "cell_type": "markdown",
   "id": "b4d365c2-ccc7-4ee6-8df7-7d346447c841",
   "metadata": {},
   "source": [
    "### Count the number of lowercase letters in a string"
   ]
  },
  {
   "cell_type": "code",
   "execution_count": 10,
   "id": "3d7374dc-52f0-4fbf-a0f2-3d0496a79f76",
   "metadata": {},
   "outputs": [
    {
     "name": "stdout",
     "output_type": "stream",
     "text": [
      "Number of lowercase letters: 14\n"
     ]
    }
   ],
   "source": [
    "\n",
    "# Initialize a variable to count lowercase letters\n",
    "lowercase_count = 0\n",
    "\n",
    "# Iterate through each character in the string\n",
    "for char in input_string:\n",
    "    if char.islower():\n",
    "        lowercase_count += 1\n",
    "\n",
    "# Print the count of lowercase letters\n",
    "print(\"Number of lowercase letters:\", lowercase_count)"
   ]
  },
  {
   "cell_type": "markdown",
   "id": "6e11382f-2c72-4a01-9112-8115bff10b57",
   "metadata": {},
   "source": [
    "### Swap the case of each character in a string.\n"
   ]
  },
  {
   "cell_type": "code",
   "execution_count": 11,
   "id": "ba9b2e11-6c60-4f9c-9e56-099ccc2c192a",
   "metadata": {},
   "outputs": [
    {
     "name": "stdout",
     "output_type": "stream",
     "text": [
      "Swapped string: hELLO, wORLD! hOW aRE yOU?\n"
     ]
    }
   ],
   "source": [
    "# Swap the case of each character\n",
    "swapped_string = input_string.swapcase()\n",
    "\n",
    "# Print the swapped string\n",
    "print(\"Swapped string:\", swapped_string)"
   ]
  },
  {
   "cell_type": "markdown",
   "id": "c13fc7c3-87e7-4b72-a5fb-167d77ea2f3d",
   "metadata": {},
   "source": [
    "### Remove a specific word from a string."
   ]
  },
  {
   "cell_type": "code",
   "execution_count": 12,
   "id": "9ef59f46-5a72-47ae-888e-b7fc542675eb",
   "metadata": {},
   "outputs": [
    {
     "name": "stdout",
     "output_type": "stream",
     "text": [
      "Modified string is: Hello, ! How Are You?\n"
     ]
    }
   ],
   "source": [
    "# Word to remove\n",
    "word_to_remove = \"World\"\n",
    "\n",
    "# Remove the word from the string\n",
    "modified_string = input_string.replace(word_to_remove, '')\n",
    "\n",
    "# Print the modified string\n",
    "print(\"Modified string is:\", modified_string)"
   ]
  },
  {
   "cell_type": "markdown",
   "id": "027d693d-7844-4793-b7de-368db4d5cb3d",
   "metadata": {},
   "source": [
    "###  Replace multiple spaces in a string with a single space."
   ]
  },
  {
   "cell_type": "code",
   "execution_count": 14,
   "id": "471fd920-feac-4275-a5f4-5d99fdb9209e",
   "metadata": {},
   "outputs": [
    {
     "name": "stdout",
     "output_type": "stream",
     "text": [
      "Modified string: This is a string with multiple spaces.\n"
     ]
    }
   ],
   "source": [
    "import re\n",
    "\n",
    "# Input string with multiple spaces\n",
    "input_string = \"This    is     a   string   with   multiple    spaces.\"\n",
    "\n",
    "# Replace multiple spaces with a single space using regular expressions\n",
    "modified_string = re.sub(r'\\s+', ' ', input_string)\n",
    "\n",
    "# Print the modified string\n",
    "print(\"Modified string:\", modified_string)"
   ]
  },
  {
   "cell_type": "markdown",
   "id": "e1161462-0be4-4f68-87c4-509199a02676",
   "metadata": {},
   "source": [
    "### Check if a string is a valid URL."
   ]
  },
  {
   "cell_type": "code",
   "execution_count": 15,
   "id": "79c0766e-108c-4de2-87bf-237f4b8db208",
   "metadata": {},
   "outputs": [
    {
     "name": "stdout",
     "output_type": "stream",
     "text": [
      "Is url1 valid? True\n",
      "Is url2 valid? False\n",
      "Is url3 valid? True\n"
     ]
    }
   ],
   "source": [
    "from urllib.parse import urlparse\n",
    "\n",
    "# Function to check if a string is a valid URL\n",
    "def is_valid_url(url):\n",
    "    try:\n",
    "        result = urlparse(url)\n",
    "        return all([result.scheme, result.netloc])\n",
    "    except ValueError:\n",
    "        return False\n",
    "\n",
    "# Test cases\n",
    "url1 = \"https://www.example.com\"\n",
    "url2 = \"invalid-url\"\n",
    "url3 = \"ftp://ftp.example.com\"\n",
    "\n",
    "# Check if the URLs are valid\n",
    "print(\"Is url1 valid?\", is_valid_url(url1))\n",
    "print(\"Is url2 valid?\", is_valid_url(url2))\n",
    "print(\"Is url3 valid?\", is_valid_url(url3))"
   ]
  },
  {
   "cell_type": "markdown",
   "id": "ec3c26fd-28dc-4765-8bb2-15678a566965",
   "metadata": {},
   "source": [
    "### Extract the protocol (http or https) from a URL string.\n"
   ]
  },
  {
   "cell_type": "code",
   "execution_count": 16,
   "id": "e11499f6-7f72-4ed1-93af-f8d5f484eaee",
   "metadata": {},
   "outputs": [
    {
     "name": "stdout",
     "output_type": "stream",
     "text": [
      "Protocol: https\n"
     ]
    }
   ],
   "source": [
    "# Test URL\n",
    "url = \"https://www.example.com/path/to/page\"\n",
    "\n",
    "# Find the index of the first colon in the URL\n",
    "colon_index = url.find(\":\")\n",
    "if colon_index != -1:\n",
    "    # Extract the protocol by slicing the string up to the colon\n",
    "    protocol = url[:colon_index]\n",
    "else:\n",
    "    protocol = \"Unknown\"\n",
    "\n",
    "# Print the extracted protocol\n",
    "print(\"Protocol:\", protocol)"
   ]
  },
  {
   "cell_type": "markdown",
   "id": "35e4918b-df0f-4b5f-98aa-59323000b049",
   "metadata": {},
   "source": [
    "### Find the frequency of each character in a string"
   ]
  },
  {
   "cell_type": "code",
   "execution_count": 1,
   "id": "f1dc7bf7-34ee-4eda-be77-3c4b257a018f",
   "metadata": {},
   "outputs": [
    {
     "name": "stdout",
     "output_type": "stream",
     "text": [
      "Character 'h' occurs 1 times.\n",
      "Character 'a' occurs 1 times.\n",
      "Character 'p' occurs 2 times.\n",
      "Character 'y' occurs 1 times.\n",
      "Character ',' occurs 1 times.\n",
      "Character ' ' occurs 1 times.\n",
      "Character 'w' occurs 1 times.\n",
      "Character 'o' occurs 1 times.\n",
      "Character 'r' occurs 1 times.\n",
      "Character 'l' occurs 1 times.\n",
      "Character 'd' occurs 1 times.\n",
      "Character '!' occurs 1 times.\n"
     ]
    }
   ],
   "source": [
    "def character_frequency(input_string):\n",
    "    # Creating an empty dictionary to store character frequencies\n",
    "    frequency_dict = {}\n",
    "\n",
    "    # Counting the frequency of each character\n",
    "    for char in input_string:\n",
    "        # Using get() to set default value to 0 if the key doesn't exist\n",
    "        frequency_dict[char] = frequency_dict.get(char, 0) + 1\n",
    "\n",
    "    return frequency_dict\n",
    "\n",
    "# Example usage\n",
    "input_string = \"happy, world!\"\n",
    "result = character_frequency(input_string)\n",
    "\n",
    "# Displaying the result\n",
    "for char, frequency in result.items():\n",
    "    print(f\"Character '{char}' occurs {frequency} times.\")"
   ]
  },
  {
   "cell_type": "markdown",
   "id": "6e9f06fb-0e27-4e97-a89d-dfa216551732",
   "metadata": {},
   "source": [
    "#### 37. Remove all punctuation from a string.\n"
   ]
  },
  {
   "cell_type": "code",
   "execution_count": 14,
   "id": "b0aa7c6d-9984-4339-b63f-8c60ec85fa3e",
   "metadata": {},
   "outputs": [
    {
     "name": "stdout",
     "output_type": "stream",
     "text": [
      "big_data thebigniningis here no worries\n"
     ]
    }
   ],
   "source": [
    "string1 = 'big_data, thebignining,is here! no worries.'\n",
    "punctuations = ',.@!'\n",
    "\n",
    "# loopint through the punctuations to find out if it is string1\n",
    "for letters in punctuations:\n",
    "    \n",
    "    if letters in string1:\n",
    "        string1 = string1.replace(letters, '')\n",
    "\n",
    "print(string1)"
   ]
  },
  {
   "cell_type": "markdown",
   "id": "2b8dcd77-ce10-4044-a6ef-5e5aff4fb31b",
   "metadata": {},
   "source": [
    "#### 38. Check if a string contains only digits"
   ]
  },
  {
   "cell_type": "code",
   "execution_count": 18,
   "id": "78f7a531-263a-4ff6-a6f3-d820442a8bbe",
   "metadata": {},
   "outputs": [
    {
     "name": "stdout",
     "output_type": "stream",
     "text": [
      "The string contains only digit\n"
     ]
    }
   ],
   "source": [
    "def contain_only_digit(string2):\n",
    "    return string2.isdigit()\n",
    "\n",
    "# use case\n",
    "string = '248567'\n",
    "outcome = contain_only_digit(string)\n",
    "\n",
    "if outcome:\n",
    "    print('The string contains only digit')\n",
    "else:\n",
    "    print('The string is a combination of digits and some other things')\n"
   ]
  },
  {
   "cell_type": "markdown",
   "id": "5941e8ec-5a48-4ac5-b937-95fa30a6d97c",
   "metadata": {},
   "source": [
    "#### 39. Check if a string contains only alphabets.\n"
   ]
  },
  {
   "cell_type": "code",
   "execution_count": 22,
   "id": "4c8865ff-20e1-444a-af0b-3480138889cc",
   "metadata": {},
   "outputs": [
    {
     "name": "stdout",
     "output_type": "stream",
     "text": [
      "The string contains only alphabet\n"
     ]
    }
   ],
   "source": [
    "def contain_only_alphabet(string3):\n",
    "     return all(char.isalpha() or char.isspace() for char in string3)\n",
    "\n",
    "# use case\n",
    "string = 'I am blessed'\n",
    "outcome = contain_only_alphabet(string)\n",
    "\n",
    "if outcome:\n",
    "    print('The string contains only alphabet')\n",
    "else:\n",
    "    print('The string is a combination of digits and some other things')"
   ]
  },
  {
   "cell_type": "markdown",
   "id": "ee434449-5437-4a03-97ac-32dc9a78acde",
   "metadata": {},
   "source": [
    "#### 40. Convert a string to a list of characters.\n"
   ]
  },
  {
   "cell_type": "code",
   "execution_count": 25,
   "id": "54f0ffae-6554-40e3-961e-48023adf0eec",
   "metadata": {},
   "outputs": [
    {
     "data": {
      "text/plain": [
       "['C', 'h', 'a', 'r', 'l', 'e', 's']"
      ]
     },
     "execution_count": 25,
     "metadata": {},
     "output_type": "execute_result"
    }
   ],
   "source": [
    "def string_conversion(input_string):\n",
    "    output = list(input_string)\n",
    "    \n",
    "    return output\n",
    "\n",
    "string_conversion('Charles')\n",
    "    "
   ]
  },
  {
   "cell_type": "markdown",
   "id": "260cad9a-f921-466f-af1d-755a15c172a7",
   "metadata": {},
   "source": [
    "#### 41. Check if two strings are anagrams."
   ]
  },
  {
   "cell_type": "code",
   "execution_count": 30,
   "id": "386e106c-9309-4273-b23d-5861905af1f1",
   "metadata": {},
   "outputs": [
    {
     "name": "stdout",
     "output_type": "stream",
     "text": [
      "combine and moment are not anagrams.\n"
     ]
    }
   ],
   "source": [
    "def if_anagram(strg1, strg2):\n",
    "    # Remove spaces and convert to lowercase for case-insensitive comparison\n",
    "    strg1 = strg1.replace(\" \", \"\").lower()\n",
    "    strg2 = strg2.replace(\" \", \"\").lower()\n",
    "\n",
    "    # Check if the sorted characters in both strings are the same\n",
    "    return sorted(strg1) == sorted(strg2)\n",
    "\n",
    "# Example usage:\n",
    "string1 = \"combine\"\n",
    "string2 = \"moment\"\n",
    "\n",
    "if if_anagram(string1, string2):\n",
    "    print(f\"{string1} and {string2} are anagrams.\")\n",
    "else:\n",
    "    print(f\"{string1} and {string2} are not anagrams.\")"
   ]
  },
  {
   "cell_type": "markdown",
   "id": "30b0df60-ba1e-4411-bf9a-6b5c997c2398",
   "metadata": {},
   "source": [
    "#### 42. Encode a string using a Caesar cipher."
   ]
  },
  {
   "cell_type": "code",
   "execution_count": 31,
   "id": "abcc3c49-9211-46ae-8cee-7bea7e3639f0",
   "metadata": {},
   "outputs": [
    {
     "name": "stdout",
     "output_type": "stream",
     "text": [
      "Original text: Hello, World!\n",
      "Encoded text: Khoor, Zruog!\n"
     ]
    }
   ],
   "source": [
    "def caesar_cipher_encode(text, shift):\n",
    "    result = \"\"\n",
    "\n",
    "    for char in text:\n",
    "        if char.isalpha():\n",
    "            # Determine whether the character is uppercase or lowercase\n",
    "            is_upper = char.isupper()\n",
    "\n",
    "            # Shift the character by the specified amount\n",
    "            shifted_char = chr((ord(char) + shift - ord('A' if is_upper else 'a')) % 26 + ord('A' if is_upper else 'a'))\n",
    "\n",
    "            result += shifted_char\n",
    "        else:\n",
    "            # If the character is not alphabetic, leave it unchanged\n",
    "            result += char\n",
    "\n",
    "    return result\n",
    "\n",
    "# Example usage:\n",
    "original_text = \"Hello, World!\"\n",
    "shift_amount = 3\n",
    "encoded_text = caesar_cipher_encode(original_text, shift_amount)\n",
    "\n",
    "print(f\"Original text: {original_text}\")\n",
    "print(f\"Encoded text: {encoded_text}\")"
   ]
  },
  {
   "cell_type": "code",
   "execution_count": null,
   "id": "98b52400-1169-44d2-aaef-5ddabec5d7af",
   "metadata": {},
   "outputs": [],
   "source": []
  },
  {
   "cell_type": "code",
   "execution_count": 33,
   "id": "c308f73b-08f1-40f2-be46-f63bf8a4668c",
   "metadata": {},
   "outputs": [
    {
     "name": "stdout",
     "output_type": "stream",
     "text": [
      "Encoded text: Khoor, Zruog!\n",
      "Decoded text: Hello, World!\n"
     ]
    }
   ],
   "source": [
    "def caesar_cipher_decode(encoded_text, shift):\n",
    "    # Use the caesar_cipher_encode function with a negative shift to decode\n",
    "    return caesar_cipher_encode(encoded_text, -shift)\n",
    "\n",
    "# Example usage:\n",
    "encoded_text = \"Khoor, Zruog!\"\n",
    "shift_amount = 3\n",
    "decoded_text = caesar_cipher_decode(encoded_text, shift_amount)\n",
    "\n",
    "print(f\"Encoded text: {encoded_text}\")\n",
    "print(f\"Decoded text: {decoded_text}\")"
   ]
  },
  {
   "cell_type": "markdown",
   "id": "fba656fd-2c3a-4d63-b18b-eb4ef413ea0f",
   "metadata": {},
   "source": [
    "#### 44. Find the most frequent word in a string."
   ]
  },
  {
   "cell_type": "code",
   "execution_count": 34,
   "id": "c8cec00d-9c13-4a79-a98b-0d90a16fa401",
   "metadata": {},
   "outputs": [
    {
     "name": "stdout",
     "output_type": "stream",
     "text": [
      "The most frequent word is 'this' with a frequency of 2.\n"
     ]
    }
   ],
   "source": [
    "import re\n",
    "\n",
    "def most_frequent_word(text):\n",
    "    # Tokenize the words using regex\n",
    "    words = re.findall(r'\\b\\w+\\b', text.lower())\n",
    "\n",
    "    # Count the frequency of each word using a dictionary\n",
    "    word_counts = {}\n",
    "    for word in words:\n",
    "        word_counts[word] = word_counts.get(word, 0) + 1\n",
    "\n",
    "    # Find the most common word\n",
    "    most_common_word = max(word_counts, key=word_counts.get)\n",
    "    frequency = word_counts[most_common_word]\n",
    "\n",
    "    return most_common_word, frequency\n",
    "\n",
    "# Example usage:\n",
    "input_string = \"This is a sample string. The word 'sample' appears most frequently in this string.\"\n",
    "result_word, result_frequency = most_frequent_word(input_string)\n",
    "\n",
    "print(f\"The most frequent word is '{result_word}' with a frequency of {result_frequency}.\")"
   ]
  },
  {
   "cell_type": "markdown",
   "id": "f5106d57-b163-450f-876a-b44975c125c0",
   "metadata": {},
   "source": [
    "#### 45. Find all unique words in a string."
   ]
  },
  {
   "cell_type": "code",
   "execution_count": 35,
   "id": "e4635f2b-4f56-4bb8-bd50-8e79c01ad64a",
   "metadata": {},
   "outputs": [
    {
     "name": "stdout",
     "output_type": "stream",
     "text": [
      "Unique words: ['make', 'earth', 'lord', 'and', 'who', 'help', 'is', 'in', 'the', 'name', 'my', 'of', 'heaven']\n"
     ]
    }
   ],
   "source": [
    "import re\n",
    "\n",
    "def unique_words(text):\n",
    "    # Tokenize the words using regex\n",
    "    words = re.findall(r'\\b\\w+\\b', text.lower())\n",
    "\n",
    "    # Use a set to store unique words\n",
    "    unique_word_set = set(words)\n",
    "\n",
    "    return list(unique_word_set)\n",
    "\n",
    "# Example usage:\n",
    "input_string = 'My help is in the name of the Lord who make heaven and earth'\n",
    "unique_words_list = unique_words(input_string)\n",
    "\n",
    "print(\"Unique words:\", unique_words_list)"
   ]
  },
  {
   "cell_type": "markdown",
   "id": "17e62055-6551-46ad-afce-2e214dedba27",
   "metadata": {},
   "source": [
    "#### 46. Count the number of syllables in a string"
   ]
  },
  {
   "cell_type": "code",
   "execution_count": 37,
   "id": "345005aa-3c13-4a64-b032-93daf2b341b9",
   "metadata": {},
   "outputs": [
    {
     "name": "stdout",
     "output_type": "stream",
     "text": [
      "The sentence 'He makes a way where there seems to be no way' has 14 syllables.\n"
     ]
    }
   ],
   "source": [
    "def count_syllables(word):\n",
    "    vowels = \"aeiouy\"\n",
    "    count = 0\n",
    "    prev_char_was_vowel = False\n",
    "\n",
    "    for char in word.lower():\n",
    "        if char in vowels:\n",
    "            if not prev_char_was_vowel:\n",
    "                count += 1\n",
    "            prev_char_was_vowel = True\n",
    "        else:\n",
    "            prev_char_was_vowel = False\n",
    "\n",
    "    return count\n",
    "\n",
    "def count_syllables_in_sentence(sentence):\n",
    "    words = sentence.split()\n",
    "    total_syllables = sum(count_syllables(word) for word in words)\n",
    "    return total_syllables\n",
    "\n",
    "# Example usage:\n",
    "input_sentence = \"He makes a way where there seems to be no way\"\n",
    "syllable_count = count_syllables_in_sentence(input_sentence)\n",
    "\n",
    "print(f\"The sentence '{input_sentence}' has {syllable_count} syllables.\")"
   ]
  },
  {
   "cell_type": "markdown",
   "id": "7f372d4f-aad5-4044-b447-52e8a55cdb49",
   "metadata": {},
   "source": [
    "#### 47. Check if a string contains any special characters.\n"
   ]
  },
  {
   "cell_type": "code",
   "execution_count": 4,
   "id": "2eb27dc7-1f45-4fb6-9470-98bee7cf0cf4",
   "metadata": {},
   "outputs": [
    {
     "name": "stdout",
     "output_type": "stream",
     "text": [
      "The string contains some special characters\n"
     ]
    }
   ],
   "source": [
    "def contains_special_letters(input_strg):\n",
    "    special_letters = '$#@%!'\n",
    "    \n",
    "    # loop through the test string to see if it contains speical letters\n",
    "    for char in input_strg:\n",
    "        if char in special_letters:\n",
    "            print('The string contains some special characters')\n",
    "            break \n",
    "    else:\n",
    "        print('The string does not contain any special character')\n",
    "\n",
    "# Use case\n",
    "test_string = \"Hello, this is a test string with special characters: @#$%\"\n",
    "contains_special_letters(test_string)"
   ]
  },
  {
   "cell_type": "markdown",
   "id": "a380967a-976a-45b6-9c49-40304a9f6232",
   "metadata": {},
   "source": [
    "#### 48. Remove the nth word from a string."
   ]
  },
  {
   "cell_type": "code",
   "execution_count": 6,
   "id": "56ccd908-118f-4460-b8f5-0e34a83a574c",
   "metadata": {},
   "outputs": [
    {
     "name": "stdout",
     "output_type": "stream",
     "text": [
      "This is sample sentence for testing the function.\n"
     ]
    }
   ],
   "source": [
    "def remove_nth_word(input_string, n):\n",
    "    words = input_string.split()\n",
    "    \n",
    "    if 1 <= n <= len(words):\n",
    "        del words[n-1]\n",
    "        result_string = ' '.join(words)\n",
    "        return result_string\n",
    "    else:\n",
    "        return \"Invalid value of n. It should be between 1 and the number of words in the string.\"\n",
    "\n",
    "# Example usage:\n",
    "original_string = \"This is a sample sentence for testing the function.\"\n",
    "n_to_remove = 3  # Replace with the desired value of n\n",
    "\n",
    "result = remove_nth_word(original_string, n_to_remove)\n",
    "print(result)"
   ]
  },
  {
   "cell_type": "markdown",
   "id": "d2b5d111-1e02-46a2-93bb-d705a92a465c",
   "metadata": {},
   "source": [
    "#### 49. Insert a word at the nth position in a string."
   ]
  },
  {
   "cell_type": "code",
   "execution_count": 7,
   "id": "e721a6d7-29d5-4cc7-aa83-c6b855848934",
   "metadata": {},
   "outputs": [
    {
     "name": "stdout",
     "output_type": "stream",
     "text": [
      "This is new_word a sample sentence for testing the function.\n"
     ]
    }
   ],
   "source": [
    "def insert_word_at_nth_position(input_string, n, word_to_insert):\n",
    "    words = input_string.split()\n",
    "\n",
    "    if 1 <= n <= len(words) + 1:\n",
    "        words.insert(n-1, word_to_insert)\n",
    "        result_string = ' '.join(words)\n",
    "        return result_string\n",
    "    else:\n",
    "        return \"Invalid value of n. It should be between 1 and the number of words + 1 in the string.\"\n",
    "\n",
    "# Example usage:\n",
    "original_string = \"This is a sample sentence for testing the function.\"\n",
    "word_to_insert = \"new_word\"\n",
    "n_to_insert_at = 3  # Replace with the desired value of n\n",
    "\n",
    "result = insert_word_at_nth_position(original_string, n_to_insert_at, word_to_insert)\n",
    "print(result)"
   ]
  },
  {
   "cell_type": "markdown",
   "id": "b5a3e8d0-c7bb-491d-a96c-c76f9946f63f",
   "metadata": {},
   "source": [
    "#### 50. Convert a CSV string to a list of lists"
   ]
  },
  {
   "cell_type": "code",
   "execution_count": 8,
   "id": "48caa6e3-ff13-45aa-b894-21e1b474c9e4",
   "metadata": {},
   "outputs": [
    {
     "name": "stdout",
     "output_type": "stream",
     "text": [
      "[['Name', ' Age', ' City'], ['John', ' 25', ' New York'], ['Alice', ' 30', ' London'], ['Bob', ' 28', ' Paris']]\n"
     ]
    }
   ],
   "source": [
    "import csv\n",
    "from io import StringIO\n",
    "\n",
    "def csv_string_to_list(csv_string):\n",
    "    # Create a file-like object from the CSV string\n",
    "    csv_file = StringIO(csv_string)\n",
    "\n",
    "    # Use the csv.reader to read the CSV content\n",
    "    csv_reader = csv.reader(csv_file)\n",
    "\n",
    "    # Convert the CSV content to a list of lists\n",
    "    csv_list = [row for row in csv_reader]\n",
    "\n",
    "    return csv_list\n",
    "\n",
    "# Example usage:\n",
    "csv_string = \"Name, Age, City\\nJohn, 25, New York\\nAlice, 30, London\\nBob, 28, Paris\"\n",
    "result = csv_string_to_list(csv_string)\n",
    "print(result)"
   ]
  },
  {
   "cell_type": "markdown",
   "id": "acc427c8-af35-4e65-9701-38e5a20f26c1",
   "metadata": {},
   "source": [
    "#### List Based Practice Problem :\n",
    "1. Create a list with integers from 1 to 10."
   ]
  },
  {
   "cell_type": "code",
   "execution_count": 10,
   "id": "896c581d-1a65-4e29-bffa-35a6d3ed7404",
   "metadata": {},
   "outputs": [],
   "source": [
    "list1 = [1,2,3,4,5,6,7,8,9,10]"
   ]
  },
  {
   "cell_type": "markdown",
   "id": "c8f43d00-cf5f-4389-8187-f74f49c964bc",
   "metadata": {},
   "source": [
    "#### 2. Find the length of a list without using the `len()` function."
   ]
  },
  {
   "cell_type": "code",
   "execution_count": 12,
   "id": "0428476e-d262-4831-9ff3-e0836be998cf",
   "metadata": {},
   "outputs": [
    {
     "name": "stdout",
     "output_type": "stream",
     "text": [
      " the lenght of the elements on the list is 10\n"
     ]
    }
   ],
   "source": [
    "lenght_of_list = 0\n",
    "\n",
    "# looping through the list\n",
    "for n in list1:\n",
    "    lenght_of_list += 1\n",
    "print(f' the lenght of the elements on the list is {lenght_of_list}')"
   ]
  },
  {
   "cell_type": "markdown",
   "id": "3be6763f-bc46-4a87-9021-2d1afffada6c",
   "metadata": {
    "jp-MarkdownHeadingCollapsed": true,
    "tags": []
   },
   "source": [
    "#### 3. Append an element to the end of a list"
   ]
  },
  {
   "cell_type": "code",
   "execution_count": 13,
   "id": "535578f1-caf3-4d03-8f98-dffadce86889",
   "metadata": {},
   "outputs": [
    {
     "name": "stdout",
     "output_type": "stream",
     "text": [
      "[1, 2, 3, 4, 5, 6, 7, 8, 9, 10, 11]\n"
     ]
    }
   ],
   "source": [
    "list1.append(11)\n",
    "\n",
    "# print the new list\n",
    "print(list1)"
   ]
  },
  {
   "cell_type": "markdown",
   "id": "cb013e8f-0f49-4a47-97da-35049cbd7777",
   "metadata": {},
   "source": [
    "#### 4. Insert an element at a specific index in a list.\n"
   ]
  },
  {
   "cell_type": "code",
   "execution_count": 14,
   "id": "fb704ab6-e4d1-4326-8954-dbed4181e408",
   "metadata": {},
   "outputs": [
    {
     "name": "stdout",
     "output_type": "stream",
     "text": [
      "[1, 2, 4, 3, 4, 5, 6, 7, 8, 9, 10, 11]\n"
     ]
    }
   ],
   "source": [
    "list1.insert(2, 4)\n",
    "\n",
    "# print the new list\n",
    "print(list1)"
   ]
  },
  {
   "cell_type": "markdown",
   "id": "cf1dbadb-b97a-4491-97b8-4c00f6c4b7cd",
   "metadata": {},
   "source": [
    "#### 5. Remove an element from a list by its value.\n"
   ]
  },
  {
   "cell_type": "code",
   "execution_count": 15,
   "id": "eea5acae-15a2-4d52-9f48-fea7d373469c",
   "metadata": {},
   "outputs": [
    {
     "name": "stdout",
     "output_type": "stream",
     "text": [
      "[1, 2, 4, 3, 4, 5, 6, 7, 8, 9, 10]\n"
     ]
    }
   ],
   "source": [
    "list1.pop()\n",
    "\n",
    "# print the new list\n",
    "print(list1)"
   ]
  },
  {
   "cell_type": "markdown",
   "id": "0943de7d-cfcf-4ab3-af4d-eb48e69db713",
   "metadata": {},
   "source": [
    "#### 6. Remove an element from a list by its index"
   ]
  },
  {
   "cell_type": "code",
   "execution_count": 17,
   "id": "3ef71381-c235-4aad-a1d3-60aa10f71f8f",
   "metadata": {},
   "outputs": [
    {
     "name": "stdout",
     "output_type": "stream",
     "text": [
      "[1, 4, 4, 5, 6, 7, 8, 9, 10]\n"
     ]
    }
   ],
   "source": [
    "list1.remove(3)\n",
    "\n",
    "# print the new list\n",
    "print(list1)"
   ]
  },
  {
   "cell_type": "markdown",
   "id": "5c2f4ba3-5370-46b5-9d63-727585e09609",
   "metadata": {},
   "source": [
    "#### 7. Check if an element exists in a list.\n"
   ]
  },
  {
   "cell_type": "code",
   "execution_count": 22,
   "id": "01e379ef-1a2c-4c0a-8b9b-677fb903ed0e",
   "metadata": {},
   "outputs": [
    {
     "name": "stdout",
     "output_type": "stream",
     "text": [
      "Yes 5 exists on the list\n"
     ]
    }
   ],
   "source": [
    "# loop through the list\n",
    "item = 5\n",
    "for element in list1:\n",
    "    if item == element:\n",
    "        print(f'Yes {item} exists on the list')\n"
   ]
  },
  {
   "cell_type": "markdown",
   "id": "3a4acd10-c0e6-472a-97da-2cbae3683926",
   "metadata": {},
   "source": [
    "#### 8. Find the index of the first occurrence of an element in a list."
   ]
  },
  {
   "cell_type": "code",
   "execution_count": 25,
   "id": "d7132e94-0deb-4f81-bbb7-fce904d4ab83",
   "metadata": {},
   "outputs": [
    {
     "name": "stdout",
     "output_type": "stream",
     "text": [
      "The index of the first occurrence of 4 is: 4\n"
     ]
    }
   ],
   "source": [
    "# Find the index of the first occurrence of 6\n",
    "index_of_6 = list1.index(6)\n",
    "\n",
    "print(f\"The index of the first occurrence of 4 is: {index_of_4}\")"
   ]
  },
  {
   "cell_type": "markdown",
   "id": "ff47ccb1-8b05-4e66-aa2c-f0457fc61524",
   "metadata": {},
   "source": [
    "#### 9. Count the occurrences of an element in a list.\n"
   ]
  },
  {
   "cell_type": "code",
   "execution_count": 28,
   "id": "85ffdb92-ae8e-483a-a817-3a787cfa7841",
   "metadata": {},
   "outputs": [
    {
     "name": "stdout",
     "output_type": "stream",
     "text": [
      "The number of occurrences of 4 in the list is: 2\n"
     ]
    }
   ],
   "source": [
    "count_of_4 = list1.count(4)\n",
    "\n",
    "print(f\"The number of occurrences of 4 in the list is: {count_of_4}\")"
   ]
  },
  {
   "cell_type": "markdown",
   "id": "c256685b-b528-41bc-9a70-41eb5ef06614",
   "metadata": {},
   "source": [
    "#### 10. Reverse the order of elements in a list."
   ]
  },
  {
   "cell_type": "code",
   "execution_count": 30,
   "id": "9b594aad-785a-4f66-a103-30910fbb81fa",
   "metadata": {},
   "outputs": [
    {
     "data": {
      "text/plain": [
       "[10, 9, 8, 7, 6, 5, 4, 4, 1]"
      ]
     },
     "execution_count": 30,
     "metadata": {},
     "output_type": "execute_result"
    }
   ],
   "source": [
    "list1[::-1]"
   ]
  },
  {
   "cell_type": "markdown",
   "id": "ec9b0bc7-73e6-46e2-bd96-e4430fae921f",
   "metadata": {},
   "source": [
    "#### 11. Sort a list in ascending order.\n"
   ]
  },
  {
   "cell_type": "code",
   "execution_count": 32,
   "id": "fb90739a-6bee-4b11-a5a3-5e03786f2e57",
   "metadata": {},
   "outputs": [
    {
     "data": {
      "text/plain": [
       "[1, 2, 2, 3, 4, 4, 4, 5, 5, 6, 7, 8, 9]"
      ]
     },
     "execution_count": 32,
     "metadata": {},
     "output_type": "execute_result"
    }
   ],
   "source": [
    "list2 = [2,6,4,5,8,4,3,2,9,4,1,5,7]\n",
    "\n",
    "list2.sort()\n",
    "list2"
   ]
  },
  {
   "cell_type": "markdown",
   "id": "033c77bc-1d24-455f-859b-291fc0fff5c0",
   "metadata": {},
   "source": [
    "#### 12. Sort a list in descending order"
   ]
  },
  {
   "cell_type": "code",
   "execution_count": 52,
   "id": "fe30ec00-8749-4c47-a4e8-0bf2020a0793",
   "metadata": {},
   "outputs": [
    {
     "data": {
      "text/plain": [
       "[8, 5, 5, 5, 4, 4, 3, 3, 2, 1]"
      ]
     },
     "execution_count": 52,
     "metadata": {},
     "output_type": "execute_result"
    }
   ],
   "source": [
    "list3 = [3,5,4,5,1,5,8,3,4,2]\n",
    "\n",
    "reversedList = sorted(list3, reverse=True)\n",
    "reversedList"
   ]
  },
  {
   "cell_type": "markdown",
   "id": "39cdd307-b83f-4b6d-a8ed-e41d20c0009f",
   "metadata": {},
   "source": [
    "#### 13. Create a list of even numbers from 1 to 20\n",
    "#### 14. Create a list of odd numbers from 1 to 20.\n"
   ]
  },
  {
   "cell_type": "code",
   "execution_count": 56,
   "id": "acbd89f9-ac22-471b-8210-748360867d5a",
   "metadata": {},
   "outputs": [
    {
     "name": "stdout",
     "output_type": "stream",
     "text": [
      "The list of even numbers are: [2, 4, 6, 8, 10, 12, 14, 16, 18, 20]\n",
      "The list of odd numbers are: [1, 3, 5, 7, 9, 11, 13, 15, 17, 19]\n"
     ]
    }
   ],
   "source": [
    "even_numbers = []\n",
    "odd_numbers = []\n",
    "\n",
    "for i in range(1, 20+1):\n",
    "    if i%2 == 0:\n",
    "        even_numbers.append(i)\n",
    "    else:\n",
    "        odd_numbers.append(i)\n",
    "    \n",
    "# print the list of even numbers\n",
    "print(f'The list of even numbers are: {even_numbers}')\n",
    "print(f'The list of odd numbers are: {odd_numbers}')"
   ]
  },
  {
   "cell_type": "markdown",
   "id": "e8175f94-5e8e-456b-a659-82874e04c096",
   "metadata": {},
   "source": [
    "#### 15. Find the sum of all elements in a list.\n"
   ]
  },
  {
   "cell_type": "code",
   "execution_count": 57,
   "id": "c649bde7-a4f4-48e2-88f5-6882f4a711da",
   "metadata": {},
   "outputs": [
    {
     "name": "stdout",
     "output_type": "stream",
     "text": [
      "The sum of elements on the list is: 15\n"
     ]
    }
   ],
   "source": [
    "list4 = [1,2,3,4,5]\n",
    "\n",
    "# initialize the sum to 0\n",
    "total = 0\n",
    "\n",
    "# loop through the list\n",
    "for elements in list4:\n",
    "    total += elements\n",
    "\n",
    "# print the sum of elements on the list\n",
    "print(f'The sum of elements on the list is: {total}')\n",
    "    "
   ]
  },
  {
   "cell_type": "markdown",
   "id": "c82d7244-7dca-41f2-a7ca-ee5ece3dbbd0",
   "metadata": {},
   "source": [
    "#### 16. Find the maximum value in a list."
   ]
  },
  {
   "cell_type": "code",
   "execution_count": 60,
   "id": "4db1f10a-7e54-44f8-935e-a91f091a679b",
   "metadata": {},
   "outputs": [
    {
     "name": "stdout",
     "output_type": "stream",
     "text": [
      "8 is the maximum value on the list\n"
     ]
    }
   ],
   "source": [
    "# using list3 as case study\n",
    "maximum = 0\n",
    "\n",
    "for value in list3:\n",
    "    if value > maximum:\n",
    "        maximum = value\n",
    "\n",
    "# print the maximum value\n",
    "print(f'{maximum} is the maximum value on the list')"
   ]
  },
  {
   "cell_type": "markdown",
   "id": "e4a47061-fa20-4641-9d88-47584564fa7f",
   "metadata": {},
   "source": [
    "#### 17. Find the minimum value in a list.\n"
   ]
  },
  {
   "cell_type": "code",
   "execution_count": 61,
   "id": "cb4ff382-8d88-4719-86f4-e87c1b6c3749",
   "metadata": {},
   "outputs": [
    {
     "name": "stdout",
     "output_type": "stream",
     "text": [
      "1 is the maximum value on the list\n"
     ]
    }
   ],
   "source": [
    "# using list3 as case study\n",
    "minimum = 1\n",
    "\n",
    "for value in list3:\n",
    "    if value < minimum:\n",
    "        maximum = value\n",
    "\n",
    "# print the maximum value\n",
    "print(f'{minimum} is the minimum value on the list')"
   ]
  },
  {
   "cell_type": "markdown",
   "id": "bf0ae88c-ba1f-4417-a20a-6d802c8e931a",
   "metadata": {},
   "source": [
    "#### 18. Create a list of squares of numbers from 1 to 10"
   ]
  },
  {
   "cell_type": "code",
   "execution_count": 63,
   "id": "57660f01-8202-4408-b9c3-4da152c53523",
   "metadata": {},
   "outputs": [
    {
     "name": "stdout",
     "output_type": "stream",
     "text": [
      "The squared list is: [1, 4, 9, 16, 25, 36, 49, 64, 81, 100]\n"
     ]
    }
   ],
   "source": [
    "squaredlist = []\n",
    "\n",
    "for i in range(1, 10+1):\n",
    "    squaredlist.append(i**2)\n",
    "\n",
    "# print the squared list\n",
    "print(f'The squared list is: {squaredlist}')"
   ]
  },
  {
   "cell_type": "markdown",
   "id": "a155ab0c-5026-4014-b5c6-02f140cd05f6",
   "metadata": {},
   "source": [
    "#### 19. Create a list of random numbers.\n",
    "\n"
   ]
  },
  {
   "cell_type": "code",
   "execution_count": 64,
   "id": "316ff9a1-33b5-45d5-bb37-35ad937e9e51",
   "metadata": {},
   "outputs": [
    {
     "name": "stdout",
     "output_type": "stream",
     "text": [
      "[85, 67, 47, 59, 50]\n"
     ]
    }
   ],
   "source": [
    "import random\n",
    "\n",
    "# Create a list of 5 random numbers between 1 and 100\n",
    "random_numbers = [random.randint(1, 100) for _ in range(5)]\n",
    "\n",
    "# Print the result\n",
    "print(random_numbers)"
   ]
  },
  {
   "cell_type": "markdown",
   "id": "02f8ee37-3643-4264-bc47-aa90bd5d88aa",
   "metadata": {},
   "source": [
    "#### 20. Remove duplicates from a list.\n"
   ]
  },
  {
   "cell_type": "code",
   "execution_count": 67,
   "id": "c8a4eff3-b1f3-4fef-9948-d34bbe252306",
   "metadata": {},
   "outputs": [
    {
     "name": "stdout",
     "output_type": "stream",
     "text": [
      "List with duplicates: [1, 2, 2, 3, 4, 4, 5]\n",
      "List without duplicates (preserving order): [1, 2, 3, 4, 5]\n"
     ]
    }
   ],
   "source": [
    "# Define a list with duplicates\n",
    "my_list = [1, 2, 2, 3, 4, 4, 5]\n",
    "\n",
    "# Remove duplicates while preserving order\n",
    "unique_list = []\n",
    "for item in my_list:\n",
    "    if item not in unique_list:\n",
    "        unique_list.append(item)\n",
    "\n",
    "# Print the result\n",
    "print(\"List with duplicates:\", my_list)\n",
    "print(\"List without duplicates (preserving order):\", unique_list)"
   ]
  },
  {
   "cell_type": "markdown",
   "id": "2baf1021-eafd-448f-946c-a5662070cc3f",
   "metadata": {},
   "source": [
    "#### 21. Find the common elements between two lists.\n"
   ]
  },
  {
   "cell_type": "code",
   "execution_count": 1,
   "id": "8bd33b82-81d2-43db-8e34-47fc596b97de",
   "metadata": {},
   "outputs": [
    {
     "name": "stdout",
     "output_type": "stream",
     "text": [
      "Common elements: [3, 4, 5]\n"
     ]
    }
   ],
   "source": [
    "# Define two lists\n",
    "list5 = [1, 2, 3, 4, 5]\n",
    "list6 = [3, 4, 5, 6, 7]\n",
    "\n",
    "# Find common elements using set intersection\n",
    "common_elements_set = set(list5) & set(list6)\n",
    "\n",
    "# Convert the result back to a list\n",
    "common_elements_list = list(common_elements_set)\n",
    "\n",
    "# Print the result\n",
    "print(\"Common elements:\", common_elements_list)"
   ]
  },
  {
   "cell_type": "markdown",
   "id": "1a5ff76e-96b0-46a5-813f-46a3e835158f",
   "metadata": {},
   "source": [
    "#### 22. Find the difference between two lists."
   ]
  },
  {
   "cell_type": "code",
   "execution_count": 4,
   "id": "45ff0465-d308-40a1-8ced-c58ace76e668",
   "metadata": {},
   "outputs": [
    {
     "name": "stdout",
     "output_type": "stream",
     "text": [
      "Elements in list7 but not in list8: [1, 2]\n",
      "Elements in list8 but not in list7: [6, 7]\n"
     ]
    }
   ],
   "source": [
    "# Define two lists\n",
    "list7 = [1, 2, 3, 4, 5]\n",
    "list8 = [3, 4, 5, 6, 7]\n",
    "\n",
    "# Find the difference using set operations\n",
    "difference_set7 = set(list7) - set(list8)\n",
    "difference_set8 = set(list8) - set(list7)\n",
    "\n",
    "# Convert the results back to lists\n",
    "difference_list7 = list(difference_set7)\n",
    "difference_list8 = list(difference_set8)\n",
    "\n",
    "# Print the results\n",
    "print(\"Elements in list7 but not in list8:\", difference_list7)\n",
    "print(\"Elements in list8 but not in list7:\", difference_list8)"
   ]
  },
  {
   "cell_type": "markdown",
   "id": "c9715b6b-0f64-4502-9f63-801ba52adc49",
   "metadata": {},
   "source": [
    "#### 23. Merge two lists."
   ]
  },
  {
   "cell_type": "code",
   "execution_count": 5,
   "id": "fdd29915-8c61-4a17-83e6-d0a4ef75cdb4",
   "metadata": {},
   "outputs": [
    {
     "name": "stdout",
     "output_type": "stream",
     "text": [
      "Merged list: [1, 2, 3, 4, 5, 6]\n"
     ]
    }
   ],
   "source": [
    "# Define two lists\n",
    "list1 = [1, 2, 3]\n",
    "list2 = [4, 5, 6]\n",
    "\n",
    "# Merge the lists using the extend method\n",
    "list1.extend(list2)\n",
    "\n",
    "# Print the result\n",
    "print(\"Merged list:\", list1)"
   ]
  },
  {
   "cell_type": "markdown",
   "id": "a7145253-6ec6-4b3f-9801-44733429f2be",
   "metadata": {},
   "source": [
    "#### 24. Multiply all elements in a list by 2.\n"
   ]
  },
  {
   "cell_type": "code",
   "execution_count": 8,
   "id": "dd2bd16b-27e3-4cd1-a3ce-91f297b4de67",
   "metadata": {},
   "outputs": [
    {
     "name": "stdout",
     "output_type": "stream",
     "text": [
      "The multiplied list is: [2, 4, 6, 8, 10, 12]\n"
     ]
    }
   ],
   "source": [
    "listmultiple = []\n",
    "\n",
    "for i in list1:\n",
    "    listmultiple.append(i*2)\n",
    "\n",
    "# print the squared list\n",
    "print(f'The multiplied list is: {listmultiple}')"
   ]
  },
  {
   "cell_type": "markdown",
   "id": "bf8aaf51-5d3c-4af9-adc7-25d1ea589685",
   "metadata": {},
   "source": [
    "#### 25. Filter out all even numbers from a list."
   ]
  },
  {
   "cell_type": "code",
   "execution_count": 10,
   "id": "560df3a9-f52e-4ad5-be24-76dc815bf803",
   "metadata": {},
   "outputs": [
    {
     "name": "stdout",
     "output_type": "stream",
     "text": [
      "The list of even numbers are: [2, 4, 6, 8, 10, 12, 14]\n"
     ]
    }
   ],
   "source": [
    "even_numbers = []\n",
    "\n",
    "for i in range(1, 15+1):\n",
    "    if i%2 == 0:\n",
    "        even_numbers.append(i)\n",
    "    \n",
    "# print the list of even numbers\n",
    "print(f'The list of even numbers are: {even_numbers}')"
   ]
  },
  {
   "cell_type": "markdown",
   "id": "1bb78400-f494-40ed-89b2-86bd3f7f3068",
   "metadata": {},
   "source": [
    "#### 26. Convert a list of strings to a list of integers"
   ]
  },
  {
   "cell_type": "code",
   "execution_count": 12,
   "id": "e8463a73-3aaa-470b-a8dc-22cb710f70de",
   "metadata": {},
   "outputs": [
    {
     "name": "stdout",
     "output_type": "stream",
     "text": [
      "List of strings: ['1', '2', '3', '4', '5']\n",
      "List of integers: [1, 2, 3, 4, 5]\n"
     ]
    }
   ],
   "source": [
    "# Define a list of strings\n",
    "string_list = [\"1\", \"2\", \"3\", \"4\", \"5\"]\n",
    "\n",
    "# Convert the list of strings to a list of integers\n",
    "integer_list = [int(x) for x in string_list]\n",
    "\n",
    "# Print the result\n",
    "print(\"List of strings:\", string_list)\n",
    "print(\"List of integers:\", integer_list)"
   ]
  },
  {
   "cell_type": "markdown",
   "id": "8320e752-a5d0-4aa9-981b-5588ce376f01",
   "metadata": {},
   "source": [
    "#### 27. Convert a list of integers to a list of string"
   ]
  },
  {
   "cell_type": "code",
   "execution_count": 1,
   "id": "9b431f96-9d5f-4060-93ac-cb913d074dd6",
   "metadata": {},
   "outputs": [
    {
     "name": "stdout",
     "output_type": "stream",
     "text": [
      "List of integers: [1, 2, 3, 4, 5]\n",
      "List of strings: ['1', '2', '3', '4', '5']\n"
     ]
    }
   ],
   "source": [
    "# Define a list of integers\n",
    "integer_list = [1, 2, 3, 4, 5]\n",
    "\n",
    "# Convert the list of integers to a list of strings\n",
    "string_list = [str(x) for x in integer_list]\n",
    "\n",
    "# Print the result\n",
    "print(\"List of integers:\", integer_list)\n",
    "print(\"List of strings:\", string_list)"
   ]
  },
  {
   "cell_type": "markdown",
   "id": "2e4c0abd-2a93-4b97-97a5-2519a3d0a38e",
   "metadata": {},
   "source": [
    "#### 28. Flatten a nested list."
   ]
  },
  {
   "cell_type": "code",
   "execution_count": 2,
   "id": "aed64173-fd4c-48a4-a7dc-665ccffcace7",
   "metadata": {},
   "outputs": [
    {
     "name": "stdout",
     "output_type": "stream",
     "text": [
      "Nested list: [[1, 2, 3], [4, 5], [6, 7, 8]]\n",
      "Flattened list: [1, 2, 3, 4, 5, 6, 7, 8]\n"
     ]
    }
   ],
   "source": [
    "# Define a nested list\n",
    "nested_list = [[1, 2, 3], [4, 5], [6, 7, 8]]\n",
    "\n",
    "# Flatten the nested list using list comprehension\n",
    "flattened_list = [item for sublist in nested_list for item in sublist]\n",
    "\n",
    "# Print the result\n",
    "print(\"Nested list:\", nested_list)\n",
    "print(\"Flattened list:\", flattened_list)"
   ]
  },
  {
   "cell_type": "markdown",
   "id": "a8a54536-0af9-4131-b841-8eef1a5d4d60",
   "metadata": {},
   "source": [
    "#### 29. Create a list of the first 10 Fibonacci numbers.\n"
   ]
  },
  {
   "cell_type": "code",
   "execution_count": 3,
   "id": "63bb9f73-cd7b-4840-bef6-74bd01048725",
   "metadata": {},
   "outputs": [
    {
     "data": {
      "text/plain": [
       "[0, 1, 1, 2, 3, 5, 8, 13, 21, 34]"
      ]
     },
     "execution_count": 3,
     "metadata": {},
     "output_type": "execute_result"
    }
   ],
   "source": [
    "def fib_series(n):\n",
    "    fib_list = [0, 1]\n",
    "    while len(fib_list)<n:\n",
    "        fib_list.append(fib_list[-1] + fib_list[-2])\n",
    "    return fib_list\n",
    "\n",
    "# getting the output\n",
    "output = fib_series(10)\n",
    "output"
   ]
  },
  {
   "cell_type": "markdown",
   "id": "95f04cf0-c9aa-461c-adbd-aa429d09c7ea",
   "metadata": {},
   "source": [
    "#### 30. Check if a list is sorted."
   ]
  },
  {
   "cell_type": "code",
   "execution_count": 5,
   "id": "59af3221-a929-4522-9d8b-cb91de41f885",
   "metadata": {},
   "outputs": [
    {
     "name": "stdout",
     "output_type": "stream",
     "text": [
      "True\n",
      "False\n"
     ]
    }
   ],
   "source": [
    "def is_sorted_explicit(my_list):\n",
    "    # Check if the list is sorted in ascending order\n",
    "    for i in range(len(my_list) - 1):\n",
    "        if my_list[i] > my_list[i + 1]:\n",
    "            return False\n",
    "\n",
    "    # If it goes through the entire loop without finding violations, it's sorted\n",
    "    return True\n",
    "\n",
    "# Example usage:\n",
    "sorted_list = [1, 2, 3, 4, 5]\n",
    "unsorted_list = [5, 2, 8, 1, 6]\n",
    "\n",
    "print(is_sorted_explicit(sorted_list))    # Output: True\n",
    "print(is_sorted_explicit(unsorted_list))  # Output: False"
   ]
  },
  {
   "cell_type": "markdown",
   "id": "6aa41514-4c24-493d-95fb-dcd44b8659c3",
   "metadata": {},
   "source": [
    "#### 31. Rotate a list to the left by `n` positions."
   ]
  },
  {
   "cell_type": "code",
   "execution_count": 6,
   "id": "ca6c79fa-16bc-4112-bc73-644d5c9f0c84",
   "metadata": {},
   "outputs": [
    {
     "name": "stdout",
     "output_type": "stream",
     "text": [
      "Original list: [1, 2, 3, 4, 5]\n",
      "List rotated to the left by 2 positions: [3, 4, 5, 1, 2]\n"
     ]
    }
   ],
   "source": [
    "def rotate_left(my_list, n):\n",
    "    # Calculate the effective rotation index\n",
    "    rotation_index = n % len(my_list)\n",
    "    \n",
    "    # Perform the left rotation using slicing\n",
    "    rotated_list = my_list[rotation_index:] + my_list[:rotation_index]\n",
    "    \n",
    "    return rotated_list\n",
    "\n",
    "# Example usage:\n",
    "original_list = [1, 2, 3, 4, 5]\n",
    "rotation_positions = 2\n",
    "\n",
    "result = rotate_left(original_list, rotation_positions)\n",
    "print(\"Original list:\", original_list)\n",
    "print(f\"List rotated to the left by {rotation_positions} positions:\", result)"
   ]
  },
  {
   "cell_type": "markdown",
   "id": "fd4eddea-7726-42f7-921d-7fecabce9940",
   "metadata": {},
   "source": [
    "#### 32. Rotate a list to the right by `n` positions"
   ]
  },
  {
   "cell_type": "code",
   "execution_count": 7,
   "id": "42a7b6ca-d2a7-46c9-80f8-4fe731ecd3f5",
   "metadata": {},
   "outputs": [
    {
     "name": "stdout",
     "output_type": "stream",
     "text": [
      "Original list: [1, 2, 3, 4, 5]\n",
      "List rotated to the right by 2 positions: [4, 5, 1, 2, 3]\n"
     ]
    }
   ],
   "source": [
    "def rotate_right(my_list, n):\n",
    "    # Calculate the effective rotation index\n",
    "    rotation_index = len(my_list) - n % len(my_list)\n",
    "    \n",
    "    # Perform the right rotation using slicing\n",
    "    rotated_list = my_list[rotation_index:] + my_list[:rotation_index]\n",
    "    \n",
    "    return rotated_list\n",
    "\n",
    "# Example usage:\n",
    "original_list = [1, 2, 3, 4, 5]\n",
    "rotation_positions = 2\n",
    "\n",
    "result = rotate_right(original_list, rotation_positions)\n",
    "print(\"Original list:\", original_list)\n",
    "print(f\"List rotated to the right by {rotation_positions} positions:\", result)"
   ]
  },
  {
   "cell_type": "markdown",
   "id": "dcf211a5-ba38-4827-8bc7-5f42435d52a5",
   "metadata": {},
   "source": [
    "#### 33. Create a list of prime numbers up to 50.\n"
   ]
  },
  {
   "cell_type": "code",
   "execution_count": 8,
   "id": "2d6eb91d-7c95-4977-8208-9f9435961fa0",
   "metadata": {},
   "outputs": [
    {
     "name": "stdout",
     "output_type": "stream",
     "text": [
      "List of prime numbers up to 50: [2, 3, 5, 7, 11, 13, 17, 19, 23, 29, 31, 37, 41, 43, 47]\n"
     ]
    }
   ],
   "source": [
    "def is_prime(num):\n",
    "    if num < 2:\n",
    "        return False\n",
    "    for i in range(2, int(num**0.5) + 1):\n",
    "        if num % i == 0:\n",
    "            return False\n",
    "    return True\n",
    "\n",
    "# Create a list of prime numbers up to 50\n",
    "prime_numbers_up_to_50 = [num for num in range(2, 51) if is_prime(num)]\n",
    "\n",
    "print(\"List of prime numbers up to 50:\", prime_numbers_up_to_50)"
   ]
  },
  {
   "cell_type": "markdown",
   "id": "82bc8500-bb59-4e95-918a-9a8764a8337c",
   "metadata": {},
   "source": [
    "#### 34. Split a list into chunks of size `n`."
   ]
  },
  {
   "cell_type": "code",
   "execution_count": 9,
   "id": "8dc1a7ff-4655-4e6c-abcb-48badd275cbd",
   "metadata": {},
   "outputs": [
    {
     "name": "stdout",
     "output_type": "stream",
     "text": [
      "Original list: [1, 2, 3, 4, 5, 6, 7, 8, 9]\n",
      "List split into chunks of size 3: [[1, 2, 3], [4, 5, 6], [7, 8, 9]]\n"
     ]
    }
   ],
   "source": [
    "def split_into_chunks(my_list, chunk_size):\n",
    "    return [my_list[i:i + chunk_size] for i in range(0, len(my_list), chunk_size)]\n",
    "\n",
    "# Example usage:\n",
    "original_list = [1, 2, 3, 4, 5, 6, 7, 8, 9]\n",
    "chunk_size = 3\n",
    "\n",
    "result = split_into_chunks(original_list, chunk_size)\n",
    "print(f\"Original list: {original_list}\")\n",
    "print(f\"List split into chunks of size {chunk_size}: {result}\")"
   ]
  },
  {
   "cell_type": "markdown",
   "id": "c56e680a-7fdb-41c3-82d4-b1360bb217b1",
   "metadata": {},
   "source": [
    "#### 35. Find the second largest number in a list.\n"
   ]
  },
  {
   "cell_type": "code",
   "execution_count": 2,
   "id": "c8fce500-fd62-4acb-b91b-3a6a85ff0ca6",
   "metadata": {},
   "outputs": [
    {
     "name": "stdout",
     "output_type": "stream",
     "text": [
      "The second largest number on the list is: 8\n"
     ]
    }
   ],
   "source": [
    "def second_largest(mainlist):\n",
    "    if len(list1) < 2:\n",
    "        return none\n",
    "    \n",
    "    return mainlist[-2]\n",
    "\n",
    "list1 = [4, 7, 1, 9, 3, 5, 8]\n",
    "mainlist = sorted(list1)\n",
    "\n",
    "# getting the output\n",
    "output = second_largest(mainlist)\n",
    "\n",
    "# print the output\n",
    "print(f'The second largest number on the list is: {output}')"
   ]
  },
  {
   "cell_type": "markdown",
   "id": "2ce93d7e-a770-4f7e-8c10-476e4d23aa9d",
   "metadata": {},
   "source": [
    "#### 36. Replace every element in a list with its square."
   ]
  },
  {
   "cell_type": "code",
   "execution_count": 1,
   "id": "ec637207-847e-41c9-8683-fb1abd23ab85",
   "metadata": {},
   "outputs": [
    {
     "name": "stdout",
     "output_type": "stream",
     "text": [
      "Original list: [1, 2, 3, 4, 5]\n",
      "List with squared elements: [1, 4, 9, 16, 25]\n"
     ]
    }
   ],
   "source": [
    "def square_elements(my_list):\n",
    "    return [num**2 for num in my_list]\n",
    "\n",
    "# Example usage:\n",
    "original_list = [1, 2, 3, 4, 5]\n",
    "squared_list = square_elements(original_list)\n",
    "\n",
    "print(f\"Original list: {original_list}\")\n",
    "print(f\"List with squared elements: {squared_list}\")"
   ]
  },
  {
   "cell_type": "markdown",
   "id": "abea6150-4a41-4f68-b1fb-973be168b470",
   "metadata": {},
   "source": [
    "#### 37. Convert a list to a dictionary where list elements become keys and their indices become values."
   ]
  },
  {
   "cell_type": "code",
   "execution_count": 2,
   "id": "b551f529-3c9a-47c0-9e9a-d7c083bbeda8",
   "metadata": {},
   "outputs": [
    {
     "name": "stdout",
     "output_type": "stream",
     "text": [
      "Original list: ['a', 'b', 'c', 'd']\n",
      "Dictionary from list: {'a': 0, 'b': 1, 'c': 2, 'd': 3}\n"
     ]
    }
   ],
   "source": [
    "def list_to_dict(my_list):\n",
    "    return {value: index for index, value in enumerate(my_list)}\n",
    "\n",
    "# Example usage:\n",
    "original_list = ['a', 'b', 'c', 'd']\n",
    "dict_from_list = list_to_dict(original_list)\n",
    "\n",
    "print(f\"Original list: {original_list}\")\n",
    "print(f\"Dictionary from list: {dict_from_list}\")"
   ]
  },
  {
   "cell_type": "markdown",
   "id": "399fcc3c-5a72-46c0-b33e-145ae5304ba4",
   "metadata": {},
   "source": [
    "#### 38. Shuffle the elements of a list randomly."
   ]
  },
  {
   "cell_type": "code",
   "execution_count": 3,
   "id": "a3a8d456-194a-4b4e-b4bf-9dcd614d8bc6",
   "metadata": {},
   "outputs": [
    {
     "name": "stdout",
     "output_type": "stream",
     "text": [
      "Original list: [1, 2, 3, 4, 5]\n",
      "Shuffled list: [1, 3, 4, 2, 5]\n"
     ]
    }
   ],
   "source": [
    "import random\n",
    "\n",
    "def shuffle_list(my_list):\n",
    "    shuffled_list = my_list.copy()  # Create a copy to avoid modifying the original list\n",
    "    random.shuffle(shuffled_list)\n",
    "    return shuffled_list\n",
    "\n",
    "# Example usage:\n",
    "original_list = [1, 2, 3, 4, 5]\n",
    "shuffled_list = shuffle_list(original_list)\n",
    "\n",
    "print(f\"Original list: {original_list}\")\n",
    "print(f\"Shuffled list: {shuffled_list}\")"
   ]
  },
  {
   "cell_type": "markdown",
   "id": "f1b06480-609d-47e6-a3e0-0beaf6c48a5d",
   "metadata": {},
   "source": [
    "#### 39. Create a list of the first 10 factorial numbers"
   ]
  },
  {
   "cell_type": "code",
   "execution_count": 4,
   "id": "1194944f-6d83-4c39-92c8-5025dd4a637f",
   "metadata": {},
   "outputs": [
    {
     "name": "stdout",
     "output_type": "stream",
     "text": [
      "List of the first 10 factorial numbers: [1, 1, 2, 6, 24, 120, 720, 5040, 40320, 362880]\n"
     ]
    }
   ],
   "source": [
    "def factorial(n):\n",
    "    if n == 0 or n == 1:\n",
    "        return 1\n",
    "    else:\n",
    "        return n * factorial(n - 1)\n",
    "\n",
    "# Create a list of the first 10 factorial numbers\n",
    "factorial_numbers = [factorial(i) for i in range(10)]\n",
    "\n",
    "# Example usage:\n",
    "print(\"List of the first 10 factorial numbers:\", factorial_numbers)"
   ]
  },
  {
   "cell_type": "markdown",
   "id": "91a99970-8091-4357-bc4f-71bdcd4eace9",
   "metadata": {},
   "source": [
    "#### 40. Check if two lists have at least one element in common."
   ]
  },
  {
   "cell_type": "code",
   "execution_count": 5,
   "id": "73f7a9af-e4a7-4a51-8596-a4236b34024b",
   "metadata": {},
   "outputs": [
    {
     "name": "stdout",
     "output_type": "stream",
     "text": [
      "List A: [1, 2, 3, 4, 5]\n",
      "List B: [5, 6, 7, 8, 9]\n",
      "Do the lists have at least one element in common? True\n"
     ]
    }
   ],
   "source": [
    "def common_elements(list1, list2):\n",
    "    set1 = set(list1)\n",
    "    set2 = set(list2)\n",
    "    \n",
    "    # Check if there is an intersection\n",
    "    return bool(set1.intersection(set2))\n",
    "\n",
    "# Example usage:\n",
    "list_a = [1, 2, 3, 4, 5]\n",
    "list_b = [5, 6, 7, 8, 9]\n",
    "\n",
    "result = common_elements(list_a, list_b)\n",
    "print(f\"List A: {list_a}\")\n",
    "print(f\"List B: {list_b}\")\n",
    "print(f\"Do the lists have at least one element in common? {result}\")"
   ]
  },
  {
   "cell_type": "markdown",
   "id": "1a002cc9-3b97-438d-b003-0d0521e099fd",
   "metadata": {},
   "source": [
    "#### 41. Remove all elements from a list.\n"
   ]
  },
  {
   "cell_type": "code",
   "execution_count": 2,
   "id": "c746e1f3-0be0-4651-b253-df7f07d532b0",
   "metadata": {},
   "outputs": [],
   "source": [
    "list_a = [1, 2, 3, 4, 5]"
   ]
  },
  {
   "cell_type": "code",
   "execution_count": 3,
   "id": "5e4997f6-313f-46a4-a40b-8b31c353f441",
   "metadata": {},
   "outputs": [
    {
     "data": {
      "text/plain": [
       "[]"
      ]
     },
     "execution_count": 3,
     "metadata": {},
     "output_type": "execute_result"
    }
   ],
   "source": [
    "list_a.clear()\n",
    "list_a"
   ]
  },
  {
   "cell_type": "markdown",
   "id": "1274022b-acb3-43f0-b7c4-3195f194c8c0",
   "metadata": {},
   "source": [
    "#### 42. Replace negative numbers in a list with 0."
   ]
  },
  {
   "cell_type": "code",
   "execution_count": 4,
   "id": "084fe29e-81af-471d-b3fa-079e0120a2c7",
   "metadata": {},
   "outputs": [
    {
     "data": {
      "text/plain": [
       "[5, 0, 2, 3, 0, 0, 8]"
      ]
     },
     "execution_count": 4,
     "metadata": {},
     "output_type": "execute_result"
    }
   ],
   "source": [
    "list_b = [5,-6,2,3,-4,-1,8]\n",
    "\n",
    "# create an empty list\n",
    "new_list_b = []\n",
    "\n",
    "for num in list_b:\n",
    "    if num < 0:\n",
    "        num = 0\n",
    "    new_list_b.append(num)\n",
    "\n",
    "# print the new list\n",
    "new_list_b"
   ]
  },
  {
   "cell_type": "markdown",
   "id": "e670269f-b7a5-4091-9fef-4799c2fd18b4",
   "metadata": {},
   "source": [
    "#### 43. Convert a string into a list of words.\n"
   ]
  },
  {
   "cell_type": "code",
   "execution_count": 7,
   "id": "446a34a7-d4b5-47df-aa80-46fa3f76f1f3",
   "metadata": {},
   "outputs": [
    {
     "data": {
      "text/plain": [
       "['My', 'name', 'is', 'Charles', 'Adikankwu']"
      ]
     },
     "execution_count": 7,
     "metadata": {},
     "output_type": "execute_result"
    }
   ],
   "source": [
    "def word_list(string):\n",
    "    converted_list = string.split()\n",
    "    \n",
    "    return converted_list\n",
    "\n",
    "my_string = 'My name is Charles Adikankwu'\n",
    "\n",
    "# Calling the function\n",
    "output = word_list(my_string)\n",
    "\n",
    "# print the output\n",
    "output\n",
    "    "
   ]
  },
  {
   "cell_type": "code",
   "execution_count": 8,
   "id": "ed62a685-3519-493f-a7eb-2e14d47236ee",
   "metadata": {},
   "outputs": [
    {
     "data": {
      "text/plain": [
       "list"
      ]
     },
     "execution_count": 8,
     "metadata": {},
     "output_type": "execute_result"
    }
   ],
   "source": [
    "type(output)"
   ]
  },
  {
   "cell_type": "markdown",
   "id": "d3580272-af7c-4264-baf7-ea6ee7c60a1f",
   "metadata": {},
   "source": [
    "#### 44. Convert a list of words into a string."
   ]
  },
  {
   "cell_type": "code",
   "execution_count": 16,
   "id": "851ddaf4-84cd-42d8-be6f-888396dc8596",
   "metadata": {},
   "outputs": [
    {
     "data": {
      "text/plain": [
       "'My name is Charles Adikankwu'"
      ]
     },
     "execution_count": 16,
     "metadata": {},
     "output_type": "execute_result"
    }
   ],
   "source": [
    "my_name = ['My', 'name', 'is', 'Charles', 'Adikankwu']\n",
    "\n",
    "words_string = ' '.join(my_name)\n",
    "words_string"
   ]
  },
  {
   "cell_type": "markdown",
   "id": "8126e9ec-6d91-4e68-8ee7-fe49217373e6",
   "metadata": {},
   "source": [
    "#### 45. Create a list of the first `n` powers of 2."
   ]
  },
  {
   "cell_type": "code",
   "execution_count": 18,
   "id": "dad7b5dd-3180-41ec-9338-00bdf994f636",
   "metadata": {},
   "outputs": [
    {
     "name": "stdout",
     "output_type": "stream",
     "text": [
      "[1, 2, 4, 8]\n"
     ]
    }
   ],
   "source": [
    "n = 4  # You can replace this with any desired value of n\n",
    "\n",
    "powers_of_2 = [2**i for i in range(n)]\n",
    "\n",
    "print(powers_of_2)"
   ]
  },
  {
   "cell_type": "markdown",
   "id": "0a3ecc87-abd0-4fd9-8fcf-208270186e80",
   "metadata": {},
   "source": [
    "#### 46. Find the longest string in a list of strings.\n"
   ]
  },
  {
   "cell_type": "code",
   "execution_count": 26,
   "id": "ea81427c-ae27-4de2-976a-8057d1608df0",
   "metadata": {},
   "outputs": [
    {
     "name": "stdout",
     "output_type": "stream",
     "text": [
      "The longest string in the list of string is Adikankwu\n"
     ]
    }
   ],
   "source": [
    "# I will be using output list here\n",
    "\n",
    "longest_string = ''\n",
    "\n",
    "for words in output:\n",
    "    if len(words) > len(longest_string):\n",
    "        longest_string = words\n",
    "    \n",
    "print(f'The longest string in the list of string is {longest_string}')"
   ]
  },
  {
   "cell_type": "markdown",
   "id": "374e9308-1287-46b7-984a-0075656a8de8",
   "metadata": {},
   "source": [
    "#### 47. Find the shortest string in a list of strings.\n"
   ]
  },
  {
   "cell_type": "code",
   "execution_count": 5,
   "id": "25d0fdad-bedd-4bdf-8ec5-438d7eb26c42",
   "metadata": {},
   "outputs": [
    {
     "name": "stdout",
     "output_type": "stream",
     "text": [
      "The shortest string in the list of strings is: no\n"
     ]
    }
   ],
   "source": [
    "list_of_string = ['who', 'God', 'don', 'bless', 'no', 'man', 'can', 'curse']\n",
    "\n",
    "shortest_string = ('inf')\n",
    "\n",
    "for word in list_of_string:\n",
    "    if len(word) < len(shortest_string):\n",
    "        shortest_string = word\n",
    "\n",
    "print(f'The shortest string in the list of strings is: {shortest_string}')"
   ]
  },
  {
   "cell_type": "markdown",
   "id": "411da886-2ccf-4364-9925-3e095b9c5fa2",
   "metadata": {},
   "source": [
    "#### 48. Create a list of the first `n` triangular numbers."
   ]
  },
  {
   "cell_type": "code",
   "execution_count": 6,
   "id": "9bc22930-0eb7-48c6-9326-c1e1c0aeb21f",
   "metadata": {},
   "outputs": [
    {
     "name": "stdout",
     "output_type": "stream",
     "text": [
      "The first 5 triangular numbers are: [1, 3, 6, 10, 15]\n"
     ]
    }
   ],
   "source": [
    "n = 5  # You can change this to any positive integer\n",
    "\n",
    "triangular_numbers = []\n",
    "\n",
    "for i in range(1, n + 1):\n",
    "    triangular_numbers.append(i * (i + 1) // 2)\n",
    "\n",
    "print(f\"The first {n} triangular numbers are: {triangular_numbers}\")"
   ]
  },
  {
   "cell_type": "markdown",
   "id": "c0368945-bc20-411d-b112-6746cad6cdd2",
   "metadata": {},
   "source": [
    "#### 49. Check if a list contains another list as a subsequence.\n"
   ]
  },
  {
   "cell_type": "code",
   "execution_count": 7,
   "id": "ec151b30-3956-4c4d-8252-63c6e677808e",
   "metadata": {},
   "outputs": [
    {
     "name": "stdout",
     "output_type": "stream",
     "text": [
      "The list is a subsequence.\n"
     ]
    }
   ],
   "source": [
    "def is_subsequence(sub, lst):\n",
    "    sub_iter = iter(sub)\n",
    "    return all(item in lst or item == next(sub_iter, None) for item in lst)\n",
    "\n",
    "# Example usage:\n",
    "main_list = [1, 2, 3, 4, 5, 6, 7, 8]\n",
    "sub_sequence = [2, 5, 7]\n",
    "\n",
    "if is_subsequence(sub_sequence, main_list):\n",
    "    print(\"The list is a subsequence.\")\n",
    "else:\n",
    "    print(\"The list is not a subsequence.\")"
   ]
  },
  {
   "cell_type": "markdown",
   "id": "ff86279a-85f4-48c0-b65e-824ba140dc7d",
   "metadata": {},
   "source": [
    "#### 50. Swap two elements in a list by their indices."
   ]
  },
  {
   "cell_type": "code",
   "execution_count": 10,
   "id": "b0e34302-8c59-4e1c-b649-ae95f1a79cbe",
   "metadata": {},
   "outputs": [
    {
     "name": "stdout",
     "output_type": "stream",
     "text": [
      "Original List: [1, 4, 3, 2, 5]\n",
      "List after swapping: [1, 4, 3, 2, 5]\n"
     ]
    }
   ],
   "source": [
    "def swap_elements(lst, index1, index2):\n",
    "    # Check if indices are valid\n",
    "    if 0 <= index1 < len(lst) and 0 <= index2 < len(lst):\n",
    "        # Swap elements without using a temporary variable\n",
    "        lst[index1], lst[index2] = lst[index2], lst[index1]\n",
    "        return lst\n",
    "    else:\n",
    "        print(\"Invalid indices.\")\n",
    "\n",
    "# Example usage:\n",
    "my_list = [1, 2, 3, 4, 5]\n",
    "\n",
    "# Swap elements at index 1 and 3\n",
    "result_list = swap_elements(my_list, 1, 3)\n",
    "\n",
    "print(\"Original List:\", my_list)\n",
    "print(\"List after swapping:\", result_list)"
   ]
  },
  {
   "cell_type": "markdown",
   "id": "99cba016-a386-4177-8db0-7919a352ba4c",
   "metadata": {},
   "source": [
    "#### Tuple Based Practice Problem :\n",
    "1. Create a tuple with integers from 1 to 5"
   ]
  },
  {
   "cell_type": "code",
   "execution_count": 11,
   "id": "c631a1df-9dfe-4285-b2d9-3634b7fad1a3",
   "metadata": {},
   "outputs": [],
   "source": [
    "my_tuple = (1,2,3,4,5)"
   ]
  },
  {
   "cell_type": "markdown",
   "id": "0320b0a7-bb37-4fb8-93f9-42bb331655ac",
   "metadata": {},
   "source": [
    "#### 2. Access the third element of a tuple.\n"
   ]
  },
  {
   "cell_type": "code",
   "execution_count": 14,
   "id": "6f4c9e8a-45d9-48c3-96d1-bdf438e1a2e7",
   "metadata": {},
   "outputs": [
    {
     "name": "stdout",
     "output_type": "stream",
     "text": [
      "The third element of the tuple is: 3\n"
     ]
    }
   ],
   "source": [
    "print(f'The third element of the tuple is: {my_tuple[2]}')"
   ]
  },
  {
   "cell_type": "markdown",
   "id": "39c68e0f-24d6-4ace-8d9f-aeec2edc7d18",
   "metadata": {},
   "source": [
    "#### 3. Find the length of a tuple without using the `len()` function"
   ]
  },
  {
   "cell_type": "code",
   "execution_count": 17,
   "id": "4c945bee-7fcb-4677-bf41-031a5aafa6ad",
   "metadata": {},
   "outputs": [
    {
     "name": "stdout",
     "output_type": "stream",
     "text": [
      " the lenght of tuple is 5\n"
     ]
    }
   ],
   "source": [
    "lenght_of_tuple = 0\n",
    "\n",
    "# looping through the list\n",
    "for n in my_tuple:\n",
    "    lenght_of_tuple += 1\n",
    "print(f' the lenght of tuple is {lenght_of_tuple}')"
   ]
  },
  {
   "cell_type": "markdown",
   "id": "26c16717-cf3f-44ca-9c3e-dfe879679245",
   "metadata": {},
   "source": [
    "#### 4. Count the occurrences of an element in a tuple."
   ]
  },
  {
   "cell_type": "code",
   "execution_count": 18,
   "id": "fab6cf1f-2688-440e-95ec-bf6a91895469",
   "metadata": {},
   "outputs": [
    {
     "name": "stdout",
     "output_type": "stream",
     "text": [
      "The element 2 occurs 3 times in the tuple.\n"
     ]
    }
   ],
   "source": [
    "my_tuple = (1, 2, 3, 4, 2, 5, 2)\n",
    "\n",
    "# Count occurrences of the element 2 in the tuple\n",
    "occurrences = my_tuple.count(2)\n",
    "\n",
    "print(f\"The element 2 occurs {occurrences} times in the tuple.\")"
   ]
  },
  {
   "cell_type": "markdown",
   "id": "0d366eab-9d2f-4582-9b24-a342402bf2b1",
   "metadata": {},
   "source": [
    "#### 5. Find the index of the first occurrence of an element in a tuple.\n"
   ]
  },
  {
   "cell_type": "code",
   "execution_count": 19,
   "id": "9c9fd39c-0f6a-4321-b07a-df9fb7f1f6c3",
   "metadata": {},
   "outputs": [
    {
     "name": "stdout",
     "output_type": "stream",
     "text": [
      "The index of the first occurrence of 2 is: 1\n"
     ]
    }
   ],
   "source": [
    "# Find the index of the first occurrence of 6\n",
    "index_of_2 = my_tuple.index(2)\n",
    "\n",
    "print(f\"The index of the first occurrence of 2 is: {index_of_2}\")"
   ]
  },
  {
   "cell_type": "markdown",
   "id": "6f2f3f8e-c8b9-4a78-94c8-97eaf7551620",
   "metadata": {},
   "source": [
    "#### 6. Check if an element exists in a tuple"
   ]
  },
  {
   "cell_type": "code",
   "execution_count": 20,
   "id": "3c86156c-ab93-46e4-ba02-ce55432290f2",
   "metadata": {},
   "outputs": [
    {
     "name": "stdout",
     "output_type": "stream",
     "text": [
      "The element 3 exists in the tuple.\n"
     ]
    }
   ],
   "source": [
    "my_tuple = (1, 2, 3, 4, 5)\n",
    "\n",
    "# Check if the element 3 exists in the tuple\n",
    "element_exists = 3 in my_tuple\n",
    "\n",
    "if element_exists:\n",
    "    print(\"The element 3 exists in the tuple.\")\n",
    "else:\n",
    "    print(\"The element 3 does not exist in the tuple.\")"
   ]
  },
  {
   "cell_type": "markdown",
   "id": "ac364044-4b72-4be6-b49b-47195b6ebd89",
   "metadata": {},
   "source": [
    "#### 7. Convert a tuple to a list"
   ]
  },
  {
   "cell_type": "code",
   "execution_count": 5,
   "id": "b9b16ab8-d7e5-4d21-8782-3f6bf20ee492",
   "metadata": {},
   "outputs": [
    {
     "name": "stdout",
     "output_type": "stream",
     "text": [
      "[1, 2, 3, 4, 5]\n"
     ]
    },
    {
     "data": {
      "text/plain": [
       "list"
      ]
     },
     "execution_count": 5,
     "metadata": {},
     "output_type": "execute_result"
    }
   ],
   "source": [
    "my_tuple = (1, 2, 3, 4, 5)\n",
    "\n",
    "list_tuple = list(my_tuple)\n",
    "\n",
    "# print the coverted tuple\n",
    "print(list_tuple)\n",
    "\n",
    "# check the data type\n",
    "type(list_tuple)"
   ]
  },
  {
   "cell_type": "markdown",
   "id": "ff11cce0-f1d5-4366-bf6d-992363b71572",
   "metadata": {},
   "source": [
    "#### 8. Convert a list to a tuple."
   ]
  },
  {
   "cell_type": "code",
   "execution_count": 6,
   "id": "c41cc7ef-e1a7-4d27-a5a8-50b654dff3ee",
   "metadata": {},
   "outputs": [
    {
     "name": "stdout",
     "output_type": "stream",
     "text": [
      "(4, 1, 2, 6, 8, 5)\n"
     ]
    },
    {
     "data": {
      "text/plain": [
       "tuple"
      ]
     },
     "execution_count": 6,
     "metadata": {},
     "output_type": "execute_result"
    }
   ],
   "source": [
    "list9 = [4,1,2,6,8,5]\n",
    "\n",
    "coverted_list = tuple(list9)\n",
    "\n",
    "# print the coverted tuple\n",
    "print(coverted_list)\n",
    "\n",
    "# check the data type\n",
    "type(coverted_list)"
   ]
  },
  {
   "cell_type": "markdown",
   "id": "86c85b4e-c415-4a36-a7c4-33245f748d87",
   "metadata": {},
   "source": [
    "#### 9. Unpack the elements of a tuple into variables."
   ]
  },
  {
   "cell_type": "code",
   "execution_count": 8,
   "id": "5ba521b7-ce4f-4d75-bb71-6b2f7ee7a111",
   "metadata": {},
   "outputs": [
    {
     "name": "stdout",
     "output_type": "stream",
     "text": [
      "4\n",
      "5\n",
      "6\n"
     ]
    }
   ],
   "source": [
    "thisTuple = (4,5,6)\n",
    "\n",
    "# unpacking the tuple\n",
    "a,b,c = thisTuple[0], thisTuple[1], thisTuple[2]\n",
    "\n",
    "# print the unpacked tuple\n",
    "print(a)\n",
    "print(b)\n",
    "print(c)"
   ]
  },
  {
   "cell_type": "markdown",
   "id": "db7b8ed7-52d1-4586-97f0-8af6bcb3b998",
   "metadata": {},
   "source": [
    "####  10. Create a tuple of even numbers from 1 to 10.\n",
    "#### 11. Create a tuple of odd numbers from 1 to 10.\n",
    "\n"
   ]
  },
  {
   "cell_type": "code",
   "execution_count": 13,
   "id": "47fec876-a2dd-4219-a6dd-02d342bc6096",
   "metadata": {},
   "outputs": [
    {
     "name": "stdout",
     "output_type": "stream",
     "text": [
      "The tuple of even numbers from 1 to 10 are: (2, 4, 6, 8, 10)\n",
      "The tuple of odd numbers from 1 to 10 are: (1, 3, 5, 7, 9)\n"
     ]
    }
   ],
   "source": [
    "# create an empty list\n",
    "even_tuple = []\n",
    "odd_tuple = []\n",
    "\n",
    "# loop through numbers from 1 to 10\n",
    "for num in range(1, 10+1):\n",
    "    if num%2 == 0:\n",
    "        even_tuple.append(num)\n",
    "    else:\n",
    "        odd_tuple.append(num)\n",
    "\n",
    "# print the list and covert to tuple\n",
    "print(f'The tuple of even numbers from 1 to 10 are: {tuple(even_tuple)}')\n",
    "print(f'The tuple of odd numbers from 1 to 10 are: {tuple(odd_tuple)}')"
   ]
  },
  {
   "cell_type": "markdown",
   "id": "5a93e57c-052d-4e89-9b01-2cdd8e759f79",
   "metadata": {},
   "source": [
    "#### 12. Concatenate two tuples\n"
   ]
  },
  {
   "cell_type": "code",
   "execution_count": 18,
   "id": "b0471bd8-c299-4ee7-ae23-7f91f37b21e8",
   "metadata": {},
   "outputs": [
    {
     "name": "stdout",
     "output_type": "stream",
     "text": [
      "(2, 6, 4, 4, 8, 5)\n"
     ]
    }
   ],
   "source": [
    "tuple_a = (2,6,4)\n",
    "tuple_b = (4,8,5)\n",
    "\n",
    "# Concatenate the two tuples\n",
    "concatenated_tuple = tuple_a + tuple_b\n",
    "\n",
    "# print the output\n",
    "print(concatenated_tuple)"
   ]
  },
  {
   "cell_type": "markdown",
   "id": "6180d700-ba09-411f-b772-3ffcb4aa881c",
   "metadata": {},
   "source": [
    "#### 13. Repeat a tuple three times.\n"
   ]
  },
  {
   "cell_type": "code",
   "execution_count": 19,
   "id": "8f41628f-0b25-45bf-9fab-dd761994069d",
   "metadata": {},
   "outputs": [
    {
     "data": {
      "text/plain": [
       "(2, 6, 4, 2, 6, 4, 2, 6, 4)"
      ]
     },
     "execution_count": 19,
     "metadata": {},
     "output_type": "execute_result"
    }
   ],
   "source": [
    "# i use tuple_a on the above cell as use case here\n",
    "tuple_a * 3"
   ]
  },
  {
   "cell_type": "markdown",
   "id": "a11afd34-89a2-4b4a-9c80-4a384ec46f06",
   "metadata": {},
   "source": [
    "#### 14. Check if a tuple is empty."
   ]
  },
  {
   "cell_type": "code",
   "execution_count": 21,
   "id": "cd551f37-18f5-47f8-a2ea-9a33f6a59b68",
   "metadata": {},
   "outputs": [
    {
     "name": "stdout",
     "output_type": "stream",
     "text": [
      "There are elements in the tuple\n"
     ]
    }
   ],
   "source": [
    "# i use tuple_b on the above cell as use case here\n",
    "if tuple_b == ():\n",
    "    print('The tuple is empty')\n",
    "else:\n",
    "    print('There are elements in the tuple')"
   ]
  },
  {
   "cell_type": "markdown",
   "id": "c1201fd6-4afb-4d59-ad0c-e16a1e93dfd7",
   "metadata": {},
   "source": [
    "#### 15. Create a nested tuple.\n"
   ]
  },
  {
   "cell_type": "code",
   "execution_count": 22,
   "id": "69b4b559-fe6b-486b-b432-550563a2d983",
   "metadata": {},
   "outputs": [
    {
     "name": "stdout",
     "output_type": "stream",
     "text": [
      "((2, 4, 6), ('me', 'you', 'us'), (True, False))\n"
     ]
    }
   ],
   "source": [
    "# Create a nested tuple\n",
    "nested_tuple = ((2, 4, 6), ('me', 'you', 'us'), (True, False))\n",
    "\n",
    "print(nested_tuple)"
   ]
  },
  {
   "cell_type": "markdown",
   "id": "ce438a29-d36c-404a-a23c-fdb09f354559",
   "metadata": {},
   "source": [
    "#### 16. Access the first element of a nested tuple"
   ]
  },
  {
   "cell_type": "code",
   "execution_count": 23,
   "id": "ade2a18c-674e-4090-8640-a80f585b3c27",
   "metadata": {},
   "outputs": [
    {
     "data": {
      "text/plain": [
       "(2, 4, 6)"
      ]
     },
     "execution_count": 23,
     "metadata": {},
     "output_type": "execute_result"
    }
   ],
   "source": [
    "nested_tuple[0]"
   ]
  },
  {
   "cell_type": "markdown",
   "id": "e13c6e00-7046-403a-80c8-ee8195690d55",
   "metadata": {},
   "source": [
    "#### 17. Create a tuple with a single element"
   ]
  },
  {
   "cell_type": "code",
   "execution_count": 24,
   "id": "dd843fa7-2501-4321-9799-61828d4e1432",
   "metadata": {},
   "outputs": [
    {
     "name": "stdout",
     "output_type": "stream",
     "text": [
      "8\n"
     ]
    }
   ],
   "source": [
    "singleElementTuple = (8)\n",
    "\n",
    "# print the single element tuple\n",
    "print(singleElementTuple)"
   ]
  },
  {
   "cell_type": "markdown",
   "id": "80edaea4-02b2-4817-8c9c-85f9143eeab7",
   "metadata": {},
   "source": [
    "#### 18. Compare two tuples"
   ]
  },
  {
   "cell_type": "code",
   "execution_count": 26,
   "id": "541d7b76-b182-44e6-94ee-73a2a4e1e707",
   "metadata": {},
   "outputs": [
    {
     "name": "stdout",
     "output_type": "stream",
     "text": [
      "The tuples are not equal.\n",
      "The sum of elements in tuple_a is not greater than tuple_b.\n"
     ]
    }
   ],
   "source": [
    "# Two tuples to be compared\n",
    "tuple_a = (2,6,4)\n",
    "tuple_b = (4,8,5)\n",
    "\n",
    "# Define two tuples\n",
    "tuple_a = (2, 6, 4)\n",
    "tuple_b = (4, 8, 5)\n",
    "\n",
    "# Compare tuples\n",
    "if tuple_a == tuple_b:\n",
    "    print(\"The tuples are equal.\")\n",
    "else:\n",
    "    print(\"The tuples are not equal.\")\n",
    "\n",
    "# Compare the sum of elements in the tuples\n",
    "if sum(tuple_a) > sum(tuple_b):\n",
    "    print(\"The sum of elements in tuple_a is greater than tuple_b.\")\n",
    "else:\n",
    "    print(\"The sum of elements in tuple_a is not greater than tuple_b.\")"
   ]
  },
  {
   "cell_type": "markdown",
   "id": "0bab058f-6470-43a7-8ed8-30644d65d372",
   "metadata": {},
   "source": [
    "#### 19. Delete a tuple."
   ]
  },
  {
   "cell_type": "code",
   "execution_count": null,
   "id": "14ee3ae2-3327-47d9-8879-b41b996ce85f",
   "metadata": {},
   "outputs": [],
   "source": [
    "# Original tuple\n",
    "my_tuple = (1, 2, 3, 4, 5)\n",
    "\n",
    "# Delete the entire tuple\n",
    "del my_tuple"
   ]
  },
  {
   "cell_type": "markdown",
   "id": "27101f7e-3c80-40bf-9e4c-bdc33a2d3b41",
   "metadata": {},
   "source": [
    "#### 20. Slice a tuple."
   ]
  },
  {
   "cell_type": "code",
   "execution_count": 28,
   "id": "6e3b129b-4e0d-4aac-a761-8a1868c428c1",
   "metadata": {},
   "outputs": [
    {
     "data": {
      "text/plain": [
       "(1, 2, 3, 4, 5)"
      ]
     },
     "execution_count": 28,
     "metadata": {},
     "output_type": "execute_result"
    }
   ],
   "source": [
    "my_tuple = (1, 2, 3, 4, 5)\n",
    "\n",
    "# slicing the tuple\n",
    "my_tuple[:5] #This print from the first element to 4th element"
   ]
  },
  {
   "cell_type": "markdown",
   "id": "af1d3590-8c3d-4c1f-9116-8f009ac90141",
   "metadata": {},
   "source": [
    "#### 21. Find the maximum value in a tuple.\n"
   ]
  },
  {
   "cell_type": "code",
   "execution_count": 29,
   "id": "0c61c246-e407-4fe9-82e4-c2092700aa5b",
   "metadata": {},
   "outputs": [
    {
     "data": {
      "text/plain": [
       "8"
      ]
     },
     "execution_count": 29,
     "metadata": {},
     "output_type": "execute_result"
    }
   ],
   "source": [
    "# tuple b will be my use case here\n",
    "max(tuple_b)"
   ]
  },
  {
   "cell_type": "markdown",
   "id": "f4138590-ff13-4851-964c-4aab0c448c04",
   "metadata": {},
   "source": [
    "#### 22. Find the minimum value in a tuple.\n"
   ]
  },
  {
   "cell_type": "code",
   "execution_count": 30,
   "id": "b5b1a520-e55d-43af-a2db-23cb5be63212",
   "metadata": {},
   "outputs": [
    {
     "data": {
      "text/plain": [
       "4"
      ]
     },
     "execution_count": 30,
     "metadata": {},
     "output_type": "execute_result"
    }
   ],
   "source": [
    "# tuple b will be my use case here\n",
    "min(tuple_b)"
   ]
  },
  {
   "cell_type": "markdown",
   "id": "f802400d-ec21-4bf6-8458-a3112863d10a",
   "metadata": {},
   "source": [
    "#### 23. Convert a string to a tuple of characters.\n"
   ]
  },
  {
   "cell_type": "code",
   "execution_count": 37,
   "id": "5ed6c3b9-5b2c-4c18-b93e-5f1b1ea041a3",
   "metadata": {},
   "outputs": [
    {
     "name": "stdout",
     "output_type": "stream",
     "text": [
      "('C', 'h', 'a', 'r', 'z', 'y')\n"
     ]
    }
   ],
   "source": [
    "string2 = 'Charzy'\n",
    "\n",
    "# convert the string\n",
    "converted_string = tuple(string2)\n",
    "\n",
    "# print the coverted string\n",
    "print(converted_string)"
   ]
  },
  {
   "cell_type": "markdown",
   "id": "afa0bf1c-5579-46bb-bce3-dd890f84189e",
   "metadata": {},
   "source": [
    "#### 24. Convert a tuple of characters to a string"
   ]
  },
  {
   "cell_type": "code",
   "execution_count": 38,
   "id": "2edb03ce-0de4-4ef8-9cc2-fe410ddb88e3",
   "metadata": {},
   "outputs": [
    {
     "name": "stdout",
     "output_type": "stream",
     "text": [
      "Charzy\n"
     ]
    }
   ],
   "source": [
    "# Original tuple\n",
    "char_tuple = ('C', 'h', 'a', 'r', 'z', 'y')\n",
    "\n",
    "# Convert the tuple to a string\n",
    "converted_string = ''.join(char_tuple)\n",
    "\n",
    "# Print the converted string\n",
    "print(converted_string)"
   ]
  },
  {
   "cell_type": "markdown",
   "id": "a44945c6-1721-45ee-8d5d-7a276948f27b",
   "metadata": {},
   "source": [
    "#### 25. Create a tuple from multiple data types.\n"
   ]
  },
  {
   "cell_type": "code",
   "execution_count": 39,
   "id": "f9db11f2-bdbd-46a4-852f-72fcc9de8a25",
   "metadata": {},
   "outputs": [
    {
     "name": "stdout",
     "output_type": "stream",
     "text": [
      "(1, 'hello', 3.14, True, [5, 6, 7])\n"
     ]
    }
   ],
   "source": [
    "# Create a tuple with multiple data types\n",
    "mixed_tuple = (1, 'hello', 3.14, True, [5, 6, 7])\n",
    "\n",
    "# Print the tuple\n",
    "print(mixed_tuple)"
   ]
  },
  {
   "cell_type": "markdown",
   "id": "546b4afd-5bf2-431c-b985-20a6b97d822e",
   "metadata": {},
   "source": [
    "#### 26. Check if two tuples are identical.\n"
   ]
  },
  {
   "cell_type": "code",
   "execution_count": 40,
   "id": "5728f3f6-b711-4022-aa1c-837bb1d67428",
   "metadata": {},
   "outputs": [
    {
     "name": "stdout",
     "output_type": "stream",
     "text": [
      "The tuples are not identical.\n"
     ]
    }
   ],
   "source": [
    "# Define two tuples\n",
    "tuple_a = (1, 5, 3)\n",
    "tuple_b = (4, 2, 3)\n",
    "\n",
    "# Check if the tuples are identical\n",
    "if tuple_a == tuple_b:\n",
    "    print(\"The tuples are identical.\")\n",
    "else:\n",
    "    print(\"The tuples are not identical.\")"
   ]
  },
  {
   "cell_type": "markdown",
   "id": "146b0abb-bff5-4f0b-9ea5-a448ced8a95e",
   "metadata": {},
   "source": [
    "#### 27. Sort the elements of a tuple"
   ]
  },
  {
   "cell_type": "code",
   "execution_count": 41,
   "id": "c9d21179-9a1e-423a-bb96-a276c62ce855",
   "metadata": {},
   "outputs": [
    {
     "data": {
      "text/plain": [
       "[1, 3, 5]"
      ]
     },
     "execution_count": 41,
     "metadata": {},
     "output_type": "execute_result"
    }
   ],
   "source": [
    "sortedTuple = sorted(tuple_a)\n",
    "\n",
    "# print the sorted tuple\n",
    "sortedTuple"
   ]
  },
  {
   "cell_type": "markdown",
   "id": "e421f074-e668-4b25-b7b7-0b46269d439b",
   "metadata": {},
   "source": [
    "#### 28. Convert a tuple of integers to a tuple of strings"
   ]
  },
  {
   "cell_type": "code",
   "execution_count": 3,
   "id": "1fc537e0-8884-4dba-9f19-3abd7314970f",
   "metadata": {},
   "outputs": [
    {
     "name": "stdout",
     "output_type": "stream",
     "text": [
      "('2', '5', '8', '4', '6')\n"
     ]
    }
   ],
   "source": [
    " # Original tuple\n",
    "int_tuple = (2,5,8,4,6)\n",
    "\n",
    "# Convert the tuple to a string\n",
    "converted_string = tuple(str(val)for val in int_tuple)\n",
    "\n",
    "# Print the converted string\n",
    "print(converted_string)"
   ]
  },
  {
   "cell_type": "markdown",
   "id": "a2d538f0-5316-43b7-9aca-cce71a252a05",
   "metadata": {},
   "source": [
    "#### 29. Convert a tuple of strings to a tuple of integers"
   ]
  },
  {
   "cell_type": "code",
   "execution_count": 5,
   "id": "fa4fc0ff-b2a7-4f0e-b681-0025cc50fbf3",
   "metadata": {},
   "outputs": [
    {
     "name": "stdout",
     "output_type": "stream",
     "text": [
      "(2, 5, 8, 4, 6)\n"
     ]
    }
   ],
   "source": [
    "string_tuple = ('2', '5', '8', '4', '6')\n",
    "\n",
    "# Convert the tuple to a string\n",
    "converted_int = tuple(int(val)for val in string_tuple)\n",
    "\n",
    "# Print the converted integer\n",
    "print(converted_int)"
   ]
  },
  {
   "cell_type": "markdown",
   "id": "96ae001e-c8af-477b-9dab-0380a455a7c9",
   "metadata": {},
   "source": [
    "#### 30. Merge two tuples.\n"
   ]
  },
  {
   "cell_type": "code",
   "execution_count": 6,
   "id": "540d2c21-9465-4e57-8cd5-f093c7dba7e8",
   "metadata": {},
   "outputs": [
    {
     "name": "stdout",
     "output_type": "stream",
     "text": [
      "(2, 6, 4, 4, 8, 5)\n"
     ]
    }
   ],
   "source": [
    "tuple_a = (2,6,4)\n",
    "tuple_b = (4,8,5)\n",
    "\n",
    "# Concatenate the two tuples\n",
    "concatenated_tuple = tuple_a + tuple_b\n",
    "\n",
    "# print the output\n",
    "print(concatenated_tuple)"
   ]
  },
  {
   "cell_type": "markdown",
   "id": "e753014d-1324-477a-8f0d-a2bd48b04809",
   "metadata": {},
   "source": [
    "#### 31. Flatten a nested tuple.\n"
   ]
  },
  {
   "cell_type": "code",
   "execution_count": 7,
   "id": "d023eae4-b495-433e-9e88-e0bb2816a938",
   "metadata": {},
   "outputs": [
    {
     "name": "stdout",
     "output_type": "stream",
     "text": [
      "(1, 2, 3, 4, 5, 6)\n"
     ]
    }
   ],
   "source": [
    "def flatten_nested_tuple(nested_tuple):\n",
    "    flattened_tuple = ()\n",
    "    for item in nested_tuple:\n",
    "        if isinstance(item, tuple):\n",
    "            flattened_tuple += flatten_nested_tuple(item)\n",
    "        else:\n",
    "            flattened_tuple += (item,)\n",
    "    return flattened_tuple\n",
    "\n",
    "# Example of a nested tuple\n",
    "nested_tuple = (1, (2, 3), (4, (5, 6)))\n",
    "\n",
    "# Flatten the nested tuple\n",
    "flattened_tuple = flatten_nested_tuple(nested_tuple)\n",
    "\n",
    "# Print the flattened tuple\n",
    "print(flattened_tuple)"
   ]
  },
  {
   "cell_type": "markdown",
   "id": "f04ba5c7-d6e2-47d0-8fe7-7e99a326f77a",
   "metadata": {},
   "source": [
    "#### 32. Create a tuple of the first 5 prime numbers."
   ]
  },
  {
   "cell_type": "code",
   "execution_count": 8,
   "id": "10ae54af-d342-4c35-9e1d-e9a62be7d376",
   "metadata": {},
   "outputs": [
    {
     "name": "stdout",
     "output_type": "stream",
     "text": [
      "(2, 3, 5, 7, 11)\n"
     ]
    }
   ],
   "source": [
    "#### # Function to check if a number is prime\n",
    "def is_prime(num):\n",
    "    if num < 2:\n",
    "        return False\n",
    "    for i in range(2, int(num**0.5) + 1):\n",
    "        if num % i == 0:\n",
    "            return False\n",
    "    return True\n",
    "\n",
    "# Generate a tuple of the first 5 prime numbers\n",
    "first_5_primes = tuple(num for num in range(2, 20) if is_prime(num))[:5]\n",
    "\n",
    "# Print the tuple of the first 5 prime numbers\n",
    "print(first_5_primes)"
   ]
  },
  {
   "cell_type": "markdown",
   "id": "d1e6c960-358c-471f-ac16-f3ad4844883f",
   "metadata": {},
   "source": [
    "#### 33. Check if a tuple is a palindrome"
   ]
  },
  {
   "cell_type": "code",
   "execution_count": 9,
   "id": "a50263f8-f31d-4f92-8e66-37f8decbcbf4",
   "metadata": {},
   "outputs": [
    {
     "name": "stdout",
     "output_type": "stream",
     "text": [
      "The tuple is a palindrome.\n"
     ]
    }
   ],
   "source": [
    "def is_palindrome_tuple(input_tuple):\n",
    "    return input_tuple == input_tuple[::-1]\n",
    "\n",
    "# Test the function with an example\n",
    "example_tuple = (1, 2, 3, 2, 1)\n",
    "result = is_palindrome_tuple(example_tuple)\n",
    "\n",
    "# Print the result\n",
    "if result:\n",
    "    print(\"The tuple is a palindrome.\")\n",
    "else:\n",
    "    print(\"The tuple is not a palindrome.\")"
   ]
  },
  {
   "cell_type": "markdown",
   "id": "7af9fe41-d21d-41d9-ad86-96814bf99950",
   "metadata": {},
   "source": [
    "#### 34. Create a tuple of squares of numbers from 1 to 5.\n"
   ]
  },
  {
   "cell_type": "code",
   "execution_count": 11,
   "id": "27e962ab-4d55-46b1-859f-904a8cd3e4df",
   "metadata": {},
   "outputs": [
    {
     "name": "stdout",
     "output_type": "stream",
     "text": [
      "(1, 4, 9, 16, 25)\n"
     ]
    }
   ],
   "source": [
    "# To square numbers from 1 to 5\n",
    "\n",
    "a_tuple = []\n",
    "\n",
    "# loop through the numbers by\n",
    "for num in range(1, 6):\n",
    "    a_tuple.append(num**2)\n",
    "    \n",
    "squared_tuple = tuple(a_tuple)\n",
    "\n",
    "# print the tuple of squares\n",
    "print(squared_tuple)\n"
   ]
  },
  {
   "cell_type": "markdown",
   "id": "730d8421-eed5-486d-b253-1be999b0b08d",
   "metadata": {},
   "source": [
    "#### 35. Filter out all even numbers from a tuple"
   ]
  },
  {
   "cell_type": "code",
   "execution_count": 15,
   "id": "318e1869-a4a9-409e-bb1e-14179e2080e6",
   "metadata": {},
   "outputs": [
    {
     "name": "stdout",
     "output_type": "stream",
     "text": [
      "(2, 4, 6, 8, 10, 12, 14, 16, 18, 20)\n"
     ]
    }
   ],
   "source": [
    "# Assuming the tuple contains elements from 1 tp 20\n",
    "\n",
    "# initialize the empty list to be converted to tuple\n",
    "another_tuple = []\n",
    "\n",
    "for elem in range(1, 21):\n",
    "    if elem % 2 == 0:\n",
    "        another_tuple.append(elem)\n",
    "\n",
    "filteredevennumbers = tuple(another_tuple)\n",
    "\n",
    "# print the filtered numbers\n",
    "print(filteredevennumbers)\n",
    "        "
   ]
  },
  {
   "cell_type": "markdown",
   "id": "51be3e70-102a-452d-bb24-ec6f7f30562a",
   "metadata": {},
   "source": [
    "#### 36. Multiply all elements in a tuple by 2"
   ]
  },
  {
   "cell_type": "code",
   "execution_count": 18,
   "id": "f7cb0972-91c1-41a9-af40-27cbec3d2380",
   "metadata": {},
   "outputs": [
    {
     "name": "stdout",
     "output_type": "stream",
     "text": [
      "(2, 6, 4)\n"
     ]
    },
    {
     "data": {
      "text/plain": [
       "(4, 12, 8)"
      ]
     },
     "execution_count": 18,
     "metadata": {},
     "output_type": "execute_result"
    }
   ],
   "source": [
    "# Using tuple_a as case study\n",
    "\n",
    "new_tuple = []\n",
    "for num in tuple_a:\n",
    "    new_tuple.append(num*2)\n",
    "\n",
    "multipliedTuple = tuple(new_tuple)\n",
    "\n",
    "# print the multiplied tuple\n",
    "print(tuple_a) # this is tuple_a\n",
    "multipliedTuple # this is the multipled tuple_a\n",
    "    "
   ]
  },
  {
   "cell_type": "markdown",
   "id": "dc50634d-3e5f-4f50-982a-154c55c9af13",
   "metadata": {},
   "source": [
    "#### 37. Create a tuple of random numbers.\n"
   ]
  },
  {
   "cell_type": "code",
   "execution_count": 20,
   "id": "02317177-a02e-4fc1-984e-f2e4499b5f3c",
   "metadata": {},
   "outputs": [
    {
     "name": "stdout",
     "output_type": "stream",
     "text": [
      "(24, 100, 46, 97, 53)\n"
     ]
    }
   ],
   "source": [
    "import random\n",
    "\n",
    "# Generate a tuple of 5 random numbers\n",
    "random_tuple = tuple(random.randint(1, 100) for _ in range(5))\n",
    "\n",
    "# Print the tuple of random numbers\n",
    "print(random_tuple)"
   ]
  },
  {
   "cell_type": "markdown",
   "id": "1ac42d36-a436-4a5a-aa09-eb621a665377",
   "metadata": {},
   "source": [
    "#### 38. Check if a tuple is sorted.\n"
   ]
  },
  {
   "cell_type": "code",
   "execution_count": 21,
   "id": "162dce02-080f-4ad8-b49f-be9da1fbb37f",
   "metadata": {},
   "outputs": [
    {
     "name": "stdout",
     "output_type": "stream",
     "text": [
      "Is sorted_tuple sorted? True\n",
      "Is unsorted_tuple sorted? False\n"
     ]
    }
   ],
   "source": [
    "# Function to check if a tuple is sorted\n",
    "def is_sorted_tuple(input_tuple):\n",
    "    return input_tuple == tuple(sorted(input_tuple))\n",
    "\n",
    "# Test the function with examples\n",
    "sorted_tuple = (1, 2, 3, 4, 5)\n",
    "unsorted_tuple = (5, 2, 1, 4, 3)\n",
    "\n",
    "# Check if tuples are sorted\n",
    "print(\"Is sorted_tuple sorted?\", is_sorted_tuple(sorted_tuple))\n",
    "print(\"Is unsorted_tuple sorted?\", is_sorted_tuple(unsorted_tuple))\n"
   ]
  },
  {
   "cell_type": "markdown",
   "id": "8088f5de-0ae3-4612-9d62-b0bb1332fbb2",
   "metadata": {},
   "source": [
    "#### 39. Rotate a tuple to the left by `n` positions.\n"
   ]
  },
  {
   "cell_type": "code",
   "execution_count": 22,
   "id": "b4bb621b-283d-4a37-ad8f-e3a520fb1b3b",
   "metadata": {},
   "outputs": [
    {
     "name": "stdout",
     "output_type": "stream",
     "text": [
      "Original tuple: (1, 2, 3, 4, 5)\n",
      "Rotated tuple: (3, 4, 5, 1, 2)\n"
     ]
    }
   ],
   "source": [
    "def rotate_left(tuple_to_rotate, n):\n",
    "    n = n % len(tuple_to_rotate)  # Ensure n is within the length of the tuple\n",
    "    rotated_tuple = tuple_to_rotate[n:] + tuple_to_rotate[:n]\n",
    "    return rotated_tuple\n",
    "\n",
    "# Test the function with an example\n",
    "original_tuple = (1, 2, 3, 4, 5)\n",
    "rotated_tuple = rotate_left(original_tuple, 2)\n",
    "\n",
    "# Print the original and rotated tuples\n",
    "print(\"Original tuple:\", original_tuple)\n",
    "print(\"Rotated tuple:\", rotated_tuple)"
   ]
  },
  {
   "cell_type": "markdown",
   "id": "c4116b2e-a01d-40c7-950c-788a0a145ef8",
   "metadata": {},
   "source": [
    "#### 40. Rotate a tuple to the right by `n` positions."
   ]
  },
  {
   "cell_type": "code",
   "execution_count": 23,
   "id": "db912e74-0bea-456e-a1f0-95f8169a26f1",
   "metadata": {},
   "outputs": [
    {
     "name": "stdout",
     "output_type": "stream",
     "text": [
      "Original tuple: (1, 2, 3, 4, 5)\n",
      "Rotated tuple: (4, 5, 1, 2, 3)\n"
     ]
    }
   ],
   "source": [
    "def rotate_right(tuple_to_rotate, n):\n",
    "    n = n % len(tuple_to_rotate)  # Ensure n is within the length of the tuple\n",
    "    rotated_tuple = tuple_to_rotate[-n:] + tuple_to_rotate[:-n]\n",
    "    return rotated_tuple\n",
    "\n",
    "# Test the function with an example\n",
    "original_tuple = (1, 2, 3, 4, 5)\n",
    "rotated_tuple = rotate_right(original_tuple, 2)\n",
    "\n",
    "# Print the original and rotated tuples\n",
    "print(\"Original tuple:\", original_tuple)\n",
    "print(\"Rotated tuple:\", rotated_tuple)"
   ]
  },
  {
   "cell_type": "markdown",
   "id": "1e719224-a104-40e9-a29a-4fb1249bf581",
   "metadata": {},
   "source": [
    "#### 41. Create a tuple of the first 5 Fibonacci numbers."
   ]
  },
  {
   "cell_type": "code",
   "execution_count": 24,
   "id": "83f590b5-abd7-42fb-be47-8c5e25d8ad22",
   "metadata": {},
   "outputs": [
    {
     "name": "stdout",
     "output_type": "stream",
     "text": [
      "(0, 1, 1, 2, 3)\n"
     ]
    }
   ],
   "source": [
    "# Function to generate the first n Fibonacci numbers\n",
    "def generate_fibonacci(n):\n",
    "    fibonacci_sequence = [0, 1]\n",
    "    while len(fibonacci_sequence) < n:\n",
    "        next_number = fibonacci_sequence[-1] + fibonacci_sequence[-2]\n",
    "        fibonacci_sequence.append(next_number)\n",
    "    return tuple(fibonacci_sequence)\n",
    "\n",
    "# Generate a tuple of the first 5 Fibonacci numbers\n",
    "first_5_fibonacci = generate_fibonacci(5)\n",
    "\n",
    "# Print the tuple\n",
    "print(first_5_fibonacci)"
   ]
  },
  {
   "cell_type": "markdown",
   "id": "a88758c3-771f-4523-a35d-101f65114a0b",
   "metadata": {},
   "source": [
    "#### 42. Create a tuple from user input"
   ]
  },
  {
   "cell_type": "code",
   "execution_count": 26,
   "id": "ffaa520b-8bc2-4056-aa20-6a08db5532d7",
   "metadata": {},
   "outputs": [
    {
     "name": "stdin",
     "output_type": "stream",
     "text": [
      "Enter the first element:  5\n",
      "Enter the second element:  4\n",
      "Enter the third element:  5\n"
     ]
    }
   ],
   "source": [
    "# Function to get user input and create a tuple\n",
    "def create_tuple_from_input():\n",
    "    # Get user input for each element of the tuple\n",
    "    element1 = input(\"Enter the first element: \")\n",
    "    element2 = input(\"Enter the second element: \")\n",
    "    element3 = input(\"Enter the third element: \")\n",
    "\n",
    "    # Convert input to the desired types (you can adjust this based on your use case)\n",
    "    try:\n",
    "        element1 = int(element1)\n",
    "        element2 = float(element2)\n",
    "        # If the third element is expected to be a string, you can leave it as is\n",
    "    except ValueError:\n",
    "        print(\"Invalid input. Please enter valid numeric values.\")\n",
    "\n",
    "    # Create a tuple from the input values\n",
    "    user_input_tuple = (element1, element2, element3)\n",
    "    return user_input_tuple\n",
    "\n",
    "# Get user input and create a tuple\n",
    "result_tuple = create_tuple_from_input()"
   ]
  },
  {
   "cell_type": "markdown",
   "id": "b8f99a52-a88c-4ab1-a2b1-f35fed308f5e",
   "metadata": {},
   "source": [
    "#### 43. Swap two elements in a tuple.\n"
   ]
  },
  {
   "cell_type": "code",
   "execution_count": 27,
   "id": "05fae18c-7998-4999-a4a7-36e51e7489e4",
   "metadata": {},
   "outputs": [
    {
     "name": "stdout",
     "output_type": "stream",
     "text": [
      "Original tuple: (1, 2, 3, 4, 5)\n",
      "Swapped tuple: (1, 4, 3, 2, 5)\n"
     ]
    }
   ],
   "source": [
    "# Function to swap two elements in a tuple\n",
    "def swap_elements(input_tuple, index1, index2):\n",
    "    # Convert the tuple to a list to make modifications\n",
    "    list_representation = list(input_tuple)\n",
    "\n",
    "    # Swap the elements using index1 and index2\n",
    "    list_representation[index1], list_representation[index2] = list_representation[index2], list_representation[index1]\n",
    "\n",
    "    # Convert the list back to a tuple\n",
    "    swapped_tuple = tuple(list_representation)\n",
    "    return swapped_tuple\n",
    "\n",
    "# Example tuple\n",
    "original_tuple = (1, 2, 3, 4, 5)\n",
    "\n",
    "# Swap elements at index 1 and index 3\n",
    "swapped_tuple = swap_elements(original_tuple, 1, 3)\n",
    "\n",
    "# Print the original and swapped tuples\n",
    "print(\"Original tuple:\", original_tuple)\n",
    "print(\"Swapped tuple:\", swapped_tuple)"
   ]
  },
  {
   "cell_type": "markdown",
   "id": "a4796e4c-dbbe-4541-8224-ccbb7c86f47c",
   "metadata": {},
   "source": [
    "#### 44. Reverse the elements of a tuple.\n"
   ]
  },
  {
   "cell_type": "code",
   "execution_count": 1,
   "id": "5e6c7510-66ec-41cd-a1d8-37cc065c1ad9",
   "metadata": {},
   "outputs": [
    {
     "data": {
      "text/plain": [
       "(5, 4, 3, 2, 1)"
      ]
     },
     "execution_count": 1,
     "metadata": {},
     "output_type": "execute_result"
    }
   ],
   "source": [
    "original_tuple = (1, 2, 3, 4, 5)\n",
    "\n",
    "# reversing using the slicing method\n",
    "original_tuple[::-1]"
   ]
  },
  {
   "cell_type": "markdown",
   "id": "f5749e2d-2f46-4111-a7e8-fca31dd7b218",
   "metadata": {},
   "source": [
    "#### 45. Create a tuple of the first `n` powers of 2."
   ]
  },
  {
   "cell_type": "code",
   "execution_count": 2,
   "id": "4a4352ac-c4f1-4680-ab56-1eae66e12bd1",
   "metadata": {},
   "outputs": [
    {
     "name": "stdout",
     "output_type": "stream",
     "text": [
      "(1, 2, 4, 8, 16)\n"
     ]
    }
   ],
   "source": [
    "# Function to generate the first n powers of 2\n",
    "def generate_powers_of_2(n):\n",
    "    powers_of_2 = [2**i for i in range(n)]\n",
    "    return tuple(powers_of_2)\n",
    "\n",
    "# Specify the value of n\n",
    "n = 5\n",
    "\n",
    "# Generate a tuple of the first n powers of 2\n",
    "powers_of_2_tuple = generate_powers_of_2(n)\n",
    "\n",
    "# Print the tuple\n",
    "print(powers_of_2_tuple)"
   ]
  },
  {
   "cell_type": "markdown",
   "id": "1ae544d0-24ad-4f62-b98d-4ed11f7e5e2a",
   "metadata": {},
   "source": [
    "#### 46. Find the longest string in a tuple of strings"
   ]
  },
  {
   "cell_type": "code",
   "execution_count": 7,
   "id": "87f7c4c1-79eb-4cb9-ab9d-24e6f19a01a8",
   "metadata": {},
   "outputs": [
    {
     "name": "stdout",
     "output_type": "stream",
     "text": [
      "The longest string in the list of string is: banana\n"
     ]
    }
   ],
   "source": [
    "# Create a tuple of strings\n",
    "string_tuple = ('apple', 'banana', 'orange', 'grape')\n",
    "\n",
    "longest_string = ''\n",
    "\n",
    "for words in string_tuple:\n",
    "    if len(words) > len(longest_string):\n",
    "        longest_string = words\n",
    "    \n",
    "print(f'The longest string in the list of string is: {longest_string}')"
   ]
  },
  {
   "cell_type": "markdown",
   "id": "0649212b-39d5-440e-b81d-34d72757dd5d",
   "metadata": {},
   "source": [
    "#### 47. Find the shortest string in a tuple of strings"
   ]
  },
  {
   "cell_type": "code",
   "execution_count": 12,
   "id": "6a94d1df-0951-4b57-b813-9986376643c2",
   "metadata": {},
   "outputs": [
    {
     "name": "stdout",
     "output_type": "stream",
     "text": [
      "The shortest string in the tuple of string is: grpe\n"
     ]
    }
   ],
   "source": [
    "# Create a tuple of strings\n",
    "string_tuple = ('apple', 'banana', 'orange', 'grpe')\n",
    "\n",
    "shortest_string = string_tuple[0]\n",
    "\n",
    "for words in string_tuple:\n",
    "    if len(words) < len(shortest_string):\n",
    "        shortest_string = (words)\n",
    "    \n",
    "print(f'The shortest string in the tuple of string is: {shortest_string}')"
   ]
  },
  {
   "cell_type": "markdown",
   "id": "16a7615b-74a3-41e4-91aa-46c0af3daf2c",
   "metadata": {},
   "source": [
    "#### 48. Create a tuple of the first `n` triangular numbers."
   ]
  },
  {
   "cell_type": "code",
   "execution_count": 13,
   "id": "ce2f01e0-5b1b-4ccc-9203-a9b847e9838c",
   "metadata": {},
   "outputs": [
    {
     "name": "stdout",
     "output_type": "stream",
     "text": [
      "(1, 3, 6, 10, 15)\n"
     ]
    }
   ],
   "source": [
    "# Function to generate the first n triangular numbers\n",
    "def generate_triangular_numbers(n):\n",
    "    triangular_numbers = [(i * (i + 1)) // 2 for i in range(1, n + 1)]\n",
    "    return tuple(triangular_numbers)\n",
    "\n",
    "# Specify the value of n\n",
    "n = 5\n",
    "\n",
    "# Generate a tuple of the first n triangular numbers\n",
    "triangular_numbers_tuple = generate_triangular_numbers(n)\n",
    "\n",
    "# Print the tuple\n",
    "print(triangular_numbers_tuple)"
   ]
  },
  {
   "cell_type": "markdown",
   "id": "cb51273a-e132-4ddc-929a-d75119a49fab",
   "metadata": {},
   "source": [
    "#### 49. Check if a tuple contains another tuple as a subsequence"
   ]
  },
  {
   "cell_type": "code",
   "execution_count": 14,
   "id": "00bb7ee2-5a7c-4b22-9493-d3e30cbfd7db",
   "metadata": {},
   "outputs": [
    {
     "name": "stdout",
     "output_type": "stream",
     "text": [
      "The smaller tuple is a subsequence of the larger tuple.\n"
     ]
    }
   ],
   "source": [
    "# Function to check if a tuple contains another tuple as a subsequence\n",
    "def is_subsequence(main_tuple, sub_tuple):\n",
    "    main_len = len(main_tuple)\n",
    "    sub_len = len(sub_tuple)\n",
    "\n",
    "    for i in range(main_len - sub_len + 1):\n",
    "        if main_tuple[i:i + sub_len] == sub_tuple:\n",
    "            return True\n",
    "\n",
    "    return False\n",
    "\n",
    "# Example tuples\n",
    "larger_tuple = (1, 2, 3, 4, 5, 6, 7)\n",
    "smaller_tuple = (3, 4, 5)\n",
    "\n",
    "# Check if smaller_tuple is a subsequence of larger_tuple\n",
    "result = is_subsequence(larger_tuple, smaller_tuple)\n",
    "\n",
    "# Print the result\n",
    "if result:\n",
    "    print(\"The smaller tuple is a subsequence of the larger tuple.\")\n",
    "else:\n",
    "    print(\"The smaller tuple is not a subsequence of the larger tuple.\")"
   ]
  },
  {
   "cell_type": "markdown",
   "id": "42a9463d-ee70-4cad-82ff-d592fc669853",
   "metadata": {},
   "source": [
    "#### 50. Create a tuple of alternating 1s and 0s of length `n`."
   ]
  },
  {
   "cell_type": "code",
   "execution_count": 15,
   "id": "38ffbf4c-0b80-4dc6-96b2-11feaab83b74",
   "metadata": {},
   "outputs": [
    {
     "name": "stdout",
     "output_type": "stream",
     "text": [
      "(1, 0, 1, 0, 1, 0, 1, 0)\n"
     ]
    }
   ],
   "source": [
    " # Function to create a tuple of alternating 1s and 0s\n",
    "def create_alternating_tuple(n):\n",
    "    alternating_tuple = tuple(1 if i % 2 == 0 else 0 for i in range(n))\n",
    "    return alternating_tuple\n",
    "\n",
    "# Specify the length of the tuple (n)\n",
    "n = 8\n",
    "\n",
    "# Create a tuple of alternating 1s and 0s\n",
    "result_tuple = create_alternating_tuple(n)\n",
    "\n",
    "# Print the resulting tuple\n",
    "print(result_tuple)"
   ]
  },
  {
   "cell_type": "markdown",
   "id": "fee72cb7-29c2-49dd-a854-4718337cf08e",
   "metadata": {},
   "source": [
    "#### Set Based Practice Problem :\n",
    "1. Create a set with integers from 1 to 5.\n"
   ]
  },
  {
   "cell_type": "code",
   "execution_count": 3,
   "id": "886f7528-9973-4caf-94ea-9ccc9584d562",
   "metadata": {},
   "outputs": [
    {
     "data": {
      "text/plain": [
       "set"
      ]
     },
     "execution_count": 3,
     "metadata": {},
     "output_type": "execute_result"
    }
   ],
   "source": [
    "my_set = {1,2,3,4,5}\n",
    "type(my_set)"
   ]
  },
  {
   "cell_type": "markdown",
   "id": "e0a5bd14-d06e-427a-b099-c21ac8cae025",
   "metadata": {},
   "source": [
    "#### 2. Add an element to a set"
   ]
  },
  {
   "cell_type": "code",
   "execution_count": 19,
   "id": "8f720800-be6b-4a96-a0c6-9548acda5d19",
   "metadata": {},
   "outputs": [
    {
     "name": "stdout",
     "output_type": "stream",
     "text": [
      "{1, 2, 3, 4, 5, 6}\n"
     ]
    }
   ],
   "source": [
    "my_set.add(6)\n",
    "\n",
    "print(my_set)"
   ]
  },
  {
   "cell_type": "markdown",
   "id": "75c423ca-3524-4ab5-b6c6-d276ab518ef7",
   "metadata": {},
   "source": [
    "#### 3. Remove an element from a set.\n"
   ]
  },
  {
   "cell_type": "code",
   "execution_count": 4,
   "id": "a56e7f0f-6a16-4fc5-a942-34f286e79253",
   "metadata": {},
   "outputs": [
    {
     "data": {
      "text/plain": [
       "1"
      ]
     },
     "execution_count": 4,
     "metadata": {},
     "output_type": "execute_result"
    }
   ],
   "source": [
    "my_set.pop()"
   ]
  },
  {
   "cell_type": "code",
   "execution_count": 5,
   "id": "4238f208-3f36-4ccb-a01f-eff3b31ead33",
   "metadata": {},
   "outputs": [
    {
     "data": {
      "text/plain": [
       "{2, 3, 4, 5}"
      ]
     },
     "execution_count": 5,
     "metadata": {},
     "output_type": "execute_result"
    }
   ],
   "source": [
    "my_set"
   ]
  },
  {
   "cell_type": "markdown",
   "id": "a558fa49-1147-4913-a160-a2608befcd1f",
   "metadata": {},
   "source": [
    "#### 4. Check if an element exists in a set"
   ]
  },
  {
   "cell_type": "code",
   "execution_count": 23,
   "id": "ceb09598-b039-4c63-9b12-983870e0b5f8",
   "metadata": {},
   "outputs": [
    {
     "name": "stdout",
     "output_type": "stream",
     "text": [
      "5 exist in the set\n"
     ]
    }
   ],
   "source": [
    "if 5 in my_set:\n",
    "    print('5 exist in the set')\n",
    "else:\n",
    "    print('The element does not exist')"
   ]
  },
  {
   "cell_type": "markdown",
   "id": "da62f2bc-4e0d-4972-a9af-768e2223d171",
   "metadata": {},
   "source": [
    "#### 5. Find the length of a set without using the `len()` function"
   ]
  },
  {
   "cell_type": "code",
   "execution_count": 6,
   "id": "1bf6769b-b34b-468b-a608-eaa5047be39c",
   "metadata": {},
   "outputs": [
    {
     "data": {
      "text/plain": [
       "4"
      ]
     },
     "execution_count": 6,
     "metadata": {},
     "output_type": "execute_result"
    }
   ],
   "source": [
    "len(my_set)"
   ]
  },
  {
   "cell_type": "markdown",
   "id": "ca0aa1f0-466b-46b4-9f2d-d6b111279427",
   "metadata": {},
   "source": [
    "#### 6. Clear all elements from a set"
   ]
  },
  {
   "cell_type": "code",
   "execution_count": 9,
   "id": "2cd97bdf-af37-46d2-ba34-bd092dd52b1a",
   "metadata": {},
   "outputs": [
    {
     "data": {
      "text/plain": [
       "set()"
      ]
     },
     "execution_count": 9,
     "metadata": {},
     "output_type": "execute_result"
    }
   ],
   "source": [
    "my_set1 = {22,5,41,6}\n",
    "\n",
    "my_set1.clear()\n",
    "my_set1"
   ]
  },
  {
   "cell_type": "markdown",
   "id": "f29e0fb4-3e61-496a-b16f-ff4772edec4b",
   "metadata": {},
   "source": [
    "#### 7. Create a set of even numbers from 1 to 10\n",
    "#### 8. Create a set of odd numbers from 1 to 10"
   ]
  },
  {
   "cell_type": "code",
   "execution_count": 11,
   "id": "08754e65-29ec-47a6-83fd-2cdb4c3db2f8",
   "metadata": {},
   "outputs": [
    {
     "name": "stdout",
     "output_type": "stream",
     "text": [
      "The tuple of even numbers from 1 to 10 are: (2, 4, 6, 8, 10)\n",
      "The tuple of odd numbers from 1 to 10 are: (1, 3, 5, 7, 9)\n"
     ]
    }
   ],
   "source": [
    "# create an empty list\n",
    "even_set = []\n",
    "odd_set= []\n",
    "\n",
    "# loop through numbers from 1 to 10\n",
    "for num in range(1, 10+1):\n",
    "    if num%2 == 0:\n",
    "        even_set.append(num)\n",
    "    else:\n",
    "        odd_set.append(num)\n",
    "\n",
    "# print the list and covert to set\n",
    "print(f'The tuple of even numbers from 1 to 10 are: {tuple(even_set)}')\n",
    "print(f'The tuple of odd numbers from 1 to 10 are: {tuple(odd_set)}')"
   ]
  },
  {
   "cell_type": "markdown",
   "id": "32eb6d20-4848-4e74-9fd4-40cab5947050",
   "metadata": {},
   "source": [
    "#### 9. Find the union of two sets.\n"
   ]
  },
  {
   "cell_type": "code",
   "execution_count": 12,
   "id": "c6a96577-e376-445f-b318-ec18cdebd156",
   "metadata": {},
   "outputs": [
    {
     "name": "stdout",
     "output_type": "stream",
     "text": [
      "Union using union() method: {1, 2, 3, 4, 5}\n",
      "Union using | operator: {1, 2, 3, 4, 5}\n"
     ]
    }
   ],
   "source": [
    "# Create two sets\n",
    "set1 = {1, 2, 3}\n",
    "set2 = {3, 4, 5}\n",
    "\n",
    "# Find the union using the union() method\n",
    "union_set_method = set1.union(set2)\n",
    "\n",
    "# Find the union using the | operator\n",
    "union_set_operator = set1 | set2\n",
    "\n",
    "# Print the union sets\n",
    "print(\"Union using union() method:\", union_set_method)\n",
    "print(\"Union using | operator:\", union_set_operator)"
   ]
  },
  {
   "cell_type": "markdown",
   "id": "a0238c55-ced7-44e3-9597-40d7b212b245",
   "metadata": {},
   "source": [
    "#### 10. Find the intersection of two sets."
   ]
  },
  {
   "cell_type": "code",
   "execution_count": 13,
   "id": "3659a9b5-a4cd-489c-9fd9-718bbd4b740b",
   "metadata": {},
   "outputs": [
    {
     "name": "stdout",
     "output_type": "stream",
     "text": [
      "Intersection using intersection() method: {3, 4}\n",
      "Intersection using & operator: {3, 4}\n"
     ]
    }
   ],
   "source": [
    "# Create two sets\n",
    "set1 = {1, 2, 3, 4}\n",
    "set2 = {3, 4, 5, 6}\n",
    "\n",
    "# Find the intersection using the intersection() method\n",
    "intersection_set_method = set1.intersection(set2)\n",
    "\n",
    "# Find the intersection using the & operator\n",
    "intersection_set_operator = set1 & set2\n",
    "\n",
    "# Print the intersection sets\n",
    "print(\"Intersection using intersection() method:\", intersection_set_method)\n",
    "print(\"Intersection using & operator:\", intersection_set_operator)"
   ]
  },
  {
   "cell_type": "markdown",
   "id": "6c17f2cf-7581-4f3d-8bbb-4ca88993963d",
   "metadata": {},
   "source": [
    "#### 11. Find the difference between two sets.\n"
   ]
  },
  {
   "cell_type": "code",
   "execution_count": 14,
   "id": "4f28eec2-4456-4628-9d3a-b1508b4a6cfc",
   "metadata": {},
   "outputs": [
    {
     "name": "stdout",
     "output_type": "stream",
     "text": [
      "Difference using difference() method: {1, 2}\n",
      "Difference using - operator: {1, 2}\n"
     ]
    }
   ],
   "source": [
    "# Create two sets\n",
    "set1 = {1, 2, 3, 4}\n",
    "set2 = {3, 4, 5, 6}\n",
    "\n",
    "# Find the difference using the difference() method\n",
    "difference_set_method = set1.difference(set2)\n",
    "\n",
    "# Find the difference using the - operator\n",
    "difference_set_operator = set1 - set2\n",
    "\n",
    "# Print the difference sets\n",
    "print(\"Difference using difference() method:\", difference_set_method)\n",
    "print(\"Difference using - operator:\", difference_set_operator)"
   ]
  },
  {
   "cell_type": "markdown",
   "id": "d707e93a-9172-4fe5-a71a-6f27d938f32d",
   "metadata": {},
   "source": [
    "#### 12. Check if a set is a subset of another set.\n"
   ]
  },
  {
   "cell_type": "code",
   "execution_count": 15,
   "id": "ab06f4a2-eed2-49ed-96c3-20984657b220",
   "metadata": {},
   "outputs": [
    {
     "name": "stdout",
     "output_type": "stream",
     "text": [
      "Is set2 a subset using issubset() method? True\n",
      "Is set2 a subset using <= operator? True\n"
     ]
    }
   ],
   "source": [
    "# Create two sets\n",
    "set1 = {1, 2, 3, 4, 5}\n",
    "set2 = {2, 4}\n",
    "\n",
    "# Check if set2 is a subset using the issubset() method\n",
    "is_subset_method = set2.issubset(set1)\n",
    "\n",
    "# Check if set2 is a subset using the <= operator\n",
    "is_subset_operator = set2 <= set1\n",
    "\n",
    "# Print the results\n",
    "print(\"Is set2 a subset using issubset() method?\", is_subset_method)\n",
    "print(\"Is set2 a subset using <= operator?\", is_subset_operator)"
   ]
  },
  {
   "cell_type": "markdown",
   "id": "2b06df6f-c6da-43e9-8654-704674969c89",
   "metadata": {},
   "source": [
    "#### 13. Check if a set is a superset of another set.\n"
   ]
  },
  {
   "cell_type": "code",
   "execution_count": 16,
   "id": "50879726-8fa4-4757-b2a8-6be6a4cd76f4",
   "metadata": {},
   "outputs": [
    {
     "name": "stdout",
     "output_type": "stream",
     "text": [
      "Is set1 a superset using issuperset() method? True\n",
      "Is set1 a superset using >= operator? True\n"
     ]
    }
   ],
   "source": [
    "# Create two sets\n",
    "set1 = {1, 2, 3, 4, 5}\n",
    "set2 = {2, 4}\n",
    "\n",
    "# Check if set1 is a superset using the issuperset() method\n",
    "is_superset_method = set1.issuperset(set2)\n",
    "\n",
    "# Check if set1 is a superset using the >= operator\n",
    "is_superset_operator = set1 >= set2\n",
    "\n",
    "# Print the results\n",
    "print(\"Is set1 a superset using issuperset() method?\", is_superset_method)\n",
    "print(\"Is set1 a superset using >= operator?\", is_superset_operator)"
   ]
  },
  {
   "cell_type": "markdown",
   "id": "18752b59-2be5-4218-8710-e694f322b10c",
   "metadata": {},
   "source": [
    "#### 14. Create a set from a list.\n"
   ]
  },
  {
   "cell_type": "code",
   "execution_count": 17,
   "id": "acbc5d0c-51ea-4245-8081-18e63573bd24",
   "metadata": {},
   "outputs": [
    {
     "name": "stdout",
     "output_type": "stream",
     "text": [
      "{1, 2, 3, 4, 5}\n"
     ]
    }
   ],
   "source": [
    "# Create a list\n",
    "my_list = [1, 2, 3, 4, 5]\n",
    "\n",
    "# Create a set from the list using the set() constructor\n",
    "my_set = set(my_list)\n",
    "\n",
    "# Print the resulting set\n",
    "print(my_set)"
   ]
  },
  {
   "cell_type": "markdown",
   "id": "a2361c49-3a4c-4481-8e64-33e490920034",
   "metadata": {},
   "source": [
    "#### 15. Convert a set to a list.\n"
   ]
  },
  {
   "cell_type": "code",
   "execution_count": 18,
   "id": "2ba39418-3aa9-4f37-a593-91e1a94f3383",
   "metadata": {},
   "outputs": [
    {
     "name": "stdout",
     "output_type": "stream",
     "text": [
      "[1, 2, 3, 4, 5]\n"
     ]
    }
   ],
   "source": [
    "# Create a set\n",
    "my_set = {1, 2, 3, 4, 5}\n",
    "\n",
    "# Convert the set to a list using the list() constructor\n",
    "my_list = list(my_set)\n",
    "\n",
    "# Print the resulting list\n",
    "print(my_list)"
   ]
  },
  {
   "cell_type": "markdown",
   "id": "16282105-ee78-4416-ad6f-ddf196e73adf",
   "metadata": {},
   "source": [
    "#### 16. Remove a random element from a set."
   ]
  },
  {
   "cell_type": "code",
   "execution_count": 19,
   "id": "d77ca6f2-c83c-47f4-9e72-1e941ce20df1",
   "metadata": {},
   "outputs": [
    {
     "name": "stdout",
     "output_type": "stream",
     "text": [
      "Removed element: 1\n",
      "Updated set: {2, 3, 4, 5}\n"
     ]
    }
   ],
   "source": [
    "# Create a set\n",
    "my_set = {1, 2, 3, 4, 5}\n",
    "\n",
    "# Remove a random element using the pop() method\n",
    "removed_element = my_set.pop()\n",
    "\n",
    "# Print the removed element and the updated set\n",
    "print(\"Removed element:\", removed_element)\n",
    "print(\"Updated set:\", my_set)"
   ]
  },
  {
   "cell_type": "markdown",
   "id": "6ece9b91-824f-4e5a-85ea-0dbf70e88956",
   "metadata": {},
   "source": [
    "#### 17. Pop an element from a set"
   ]
  },
  {
   "cell_type": "code",
   "execution_count": 20,
   "id": "ab90dae9-d0c6-455e-a036-4f60de402102",
   "metadata": {},
   "outputs": [
    {
     "data": {
      "text/plain": [
       "2"
      ]
     },
     "execution_count": 20,
     "metadata": {},
     "output_type": "execute_result"
    }
   ],
   "source": [
    "my_set.pop()"
   ]
  },
  {
   "cell_type": "code",
   "execution_count": 21,
   "id": "d2670771-b8c6-4db7-8278-2e0f5a29bb89",
   "metadata": {},
   "outputs": [
    {
     "data": {
      "text/plain": [
       "{3, 4, 5}"
      ]
     },
     "execution_count": 21,
     "metadata": {},
     "output_type": "execute_result"
    }
   ],
   "source": [
    "my_set"
   ]
  },
  {
   "cell_type": "markdown",
   "id": "411d8af3-d572-41a2-b2ef-8a8da8d07413",
   "metadata": {},
   "source": [
    "#### 18. Check if two sets have no elements in common."
   ]
  },
  {
   "cell_type": "code",
   "execution_count": 22,
   "id": "139bd18f-1e4e-4998-b862-a81f0d05b650",
   "metadata": {},
   "outputs": [
    {
     "name": "stdout",
     "output_type": "stream",
     "text": [
      "The sets have no elements in common.\n"
     ]
    }
   ],
   "source": [
    "# Create two sets\n",
    "set1 = {1, 2, 3}\n",
    "set2 = {4, 5, 6}\n",
    "\n",
    "# Check if the sets have no elements in common using isdisjoint() method\n",
    "no_common_elements = set1.isdisjoint(set2)\n",
    "\n",
    "# Print the result\n",
    "if no_common_elements:\n",
    "    print(\"The sets have no elements in common.\")\n",
    "else:\n",
    "    print(\"The sets have elements in common.\")"
   ]
  },
  {
   "cell_type": "markdown",
   "id": "ee8a4be4-282b-40e8-9547-73215e3647b2",
   "metadata": {},
   "source": [
    "#### 19. Find the symmetric difference between two sets."
   ]
  },
  {
   "cell_type": "code",
   "execution_count": 23,
   "id": "6896166a-fc66-40f9-bf97-575516916025",
   "metadata": {},
   "outputs": [
    {
     "name": "stdout",
     "output_type": "stream",
     "text": [
      "Symmetric difference using symmetric_difference() method: {1, 2, 5, 6}\n",
      "Symmetric difference using ^ operator: {1, 2, 5, 6}\n"
     ]
    }
   ],
   "source": [
    "# Create two sets\n",
    "set1 = {1, 2, 3, 4}\n",
    "set2 = {3, 4, 5, 6}\n",
    "\n",
    "# Find the symmetric difference using the symmetric_difference() method\n",
    "symmetric_difference_method = set1.symmetric_difference(set2)\n",
    "\n",
    "# Find the symmetric difference using the ^ operator\n",
    "symmetric_difference_operator = set1 ^ set2\n",
    "\n",
    "# Print the symmetric difference sets\n",
    "print(\"Symmetric difference using symmetric_difference() method:\", symmetric_difference_method)\n",
    "print(\"Symmetric difference using ^ operator:\", symmetric_difference_operator)"
   ]
  },
  {
   "cell_type": "markdown",
   "id": "c93d0497-00db-4341-a49c-9dfe7bab1a4d",
   "metadata": {},
   "source": [
    "#### 20. Update a set with elements from another set."
   ]
  },
  {
   "cell_type": "code",
   "execution_count": 24,
   "id": "bd8ca813-5d00-4b40-800e-8a6c6e581a9a",
   "metadata": {},
   "outputs": [
    {
     "name": "stdout",
     "output_type": "stream",
     "text": [
      "Updated set1: {1, 2, 3, 4, 5}\n"
     ]
    }
   ],
   "source": [
    "# Create two sets\n",
    "set1 = {1, 2, 3}\n",
    "set2 = {3, 4, 5}\n",
    "\n",
    "# Update set1 with elements from set2 using the update() method\n",
    "set1.update(set2)\n",
    "\n",
    "# Alternatively, you can use the |= operator\n",
    "# set1 |= set2\n",
    "\n",
    "# Print the updated set1\n",
    "print(\"Updated set1:\", set1)"
   ]
  },
  {
   "cell_type": "markdown",
   "id": "13a6af51-e1a5-4676-a9a2-fbda29134b81",
   "metadata": {},
   "source": [
    "#### 21. Create a set of the first 5 prime numbers."
   ]
  },
  {
   "cell_type": "code",
   "execution_count": 25,
   "id": "02c47f62-617a-466d-acca-cc10a66fa1a7",
   "metadata": {},
   "outputs": [
    {
     "name": "stdout",
     "output_type": "stream",
     "text": [
      "{2, 3, 5, 7, 11}\n"
     ]
    }
   ],
   "source": [
    "def generate_primes(n):\n",
    "    primes = set()\n",
    "    num = 2\n",
    "    while len(primes) < n:\n",
    "        is_prime = all(num % i != 0 for i in range(2, int(num**0.5) + 1))\n",
    "        if is_prime:\n",
    "            primes.add(num)\n",
    "        num += 1\n",
    "    return primes\n",
    "\n",
    "# Generate a set of the first 5 prime numbers\n",
    "prime_numbers_generated = generate_primes(5)\n",
    "\n",
    "# Print the generated set\n",
    "print(prime_numbers_generated)"
   ]
  },
  {
   "cell_type": "markdown",
   "id": "89c6a78e-cc4e-4e59-8f5c-c8851c78c282",
   "metadata": {},
   "source": [
    "#### 22. Check if two sets are identical."
   ]
  },
  {
   "cell_type": "code",
   "execution_count": 26,
   "id": "a448c909-2a52-485f-b280-07135de12e36",
   "metadata": {},
   "outputs": [
    {
     "name": "stdout",
     "output_type": "stream",
     "text": [
      "Are the sets identical using == operator? True\n",
      "Are the sets identical using issubset() and issuperset() methods? True\n"
     ]
    }
   ],
   "source": [
    "# Create two sets\n",
    "set1 = {1, 2, 3, 4, 5}\n",
    "set2 = {1, 2, 3, 4, 5}\n",
    "\n",
    "# Check if the sets are identical using the == operator\n",
    "are_identical_operator = set1 == set2\n",
    "\n",
    "# Check if the sets are identical using issubset() and issuperset() methods\n",
    "are_identical_methods = set1.issubset(set2) and set1.issuperset(set2)\n",
    "\n",
    "# Print the results\n",
    "print(\"Are the sets identical using == operator?\", are_identical_operator)\n",
    "print(\"Are the sets identical using issubset() and issuperset() methods?\", are_identical_methods)"
   ]
  },
  {
   "cell_type": "markdown",
   "id": "24f2b3db-ff3e-42ea-82b1-284001ab76a2",
   "metadata": {},
   "source": [
    "#### 23. Create a frozen set.\n"
   ]
  },
  {
   "cell_type": "code",
   "execution_count": 27,
   "id": "919b644d-3268-433e-ad38-a958902a3701",
   "metadata": {},
   "outputs": [
    {
     "name": "stdout",
     "output_type": "stream",
     "text": [
      "frozenset({1, 2, 3, 4, 5})\n"
     ]
    }
   ],
   "source": [
    "# Create a regular set\n",
    "my_set = {1, 2, 3, 4, 5}\n",
    "\n",
    "# Create a frozen set from the regular set\n",
    "my_frozen_set = frozenset(my_set)\n",
    "\n",
    "# Print the frozen set\n",
    "print(my_frozen_set)"
   ]
  },
  {
   "cell_type": "markdown",
   "id": "71faad64-23e7-4d3a-a638-b1e3f1d45591",
   "metadata": {},
   "source": [
    "#### 24. Check if a set is disjoint with another set."
   ]
  },
  {
   "cell_type": "code",
   "execution_count": 28,
   "id": "6f49d9bf-3405-43e3-925e-02dd4977661a",
   "metadata": {},
   "outputs": [
    {
     "name": "stdout",
     "output_type": "stream",
     "text": [
      "The sets are disjoint.\n"
     ]
    }
   ],
   "source": [
    "# Create two sets\n",
    "set1 = {1, 2, 3}\n",
    "set2 = {4, 5, 6}\n",
    "\n",
    "# Check if the sets are disjoint\n",
    "are_disjoint = set1.isdisjoint(set2)\n",
    "\n",
    "# Print the result\n",
    "if are_disjoint:\n",
    "    print(\"The sets are disjoint.\")\n",
    "else:\n",
    "    print(\"The sets are not disjoint.\")"
   ]
  },
  {
   "cell_type": "markdown",
   "id": "e207ff88-6049-4b36-b03a-381dcca96bab",
   "metadata": {},
   "source": [
    "#### 25. Create a set of squares of numbers from 1 to 5.\n"
   ]
  },
  {
   "cell_type": "code",
   "execution_count": 29,
   "id": "8d18807d-87ba-4cc9-91ec-f3cce9adaa0a",
   "metadata": {},
   "outputs": [
    {
     "name": "stdout",
     "output_type": "stream",
     "text": [
      "{1, 4, 9, 16, 25}\n"
     ]
    }
   ],
   "source": [
    "# Create a set of squares of numbers from 1 to 5\n",
    "squares_set = {x ** 2 for x in range(1, 6)}\n",
    "\n",
    "# Print the set\n",
    "print(squares_set)"
   ]
  },
  {
   "cell_type": "markdown",
   "id": "b4352972-90f4-4602-a306-3f2c8865264c",
   "metadata": {},
   "source": [
    "#### 26. Filter out all even numbers from a set"
   ]
  },
  {
   "cell_type": "code",
   "execution_count": 30,
   "id": "22b67e1f-6f96-48be-9e94-4030fa726460",
   "metadata": {},
   "outputs": [
    {
     "name": "stdout",
     "output_type": "stream",
     "text": [
      "{1, 3, 5, 7, 9}\n"
     ]
    }
   ],
   "source": [
    "# Create a set of numbers\n",
    "original_set = {1, 2, 3, 4, 5, 6, 7, 8, 9, 10}\n",
    "\n",
    "# Filter out even numbers from the set\n",
    "filtered_set = {x for x in original_set if x % 2 != 0}\n",
    "\n",
    "# Print the filtered set\n",
    "print(filtered_set)"
   ]
  },
  {
   "cell_type": "markdown",
   "id": "87cf8b0b-c947-4b84-adbf-de2e274c6b6b",
   "metadata": {},
   "source": [
    "#### 27. Multiply all elements in a set by 2."
   ]
  },
  {
   "cell_type": "code",
   "execution_count": 32,
   "id": "a8fcb3d3-388c-4931-b164-ea689e05297c",
   "metadata": {},
   "outputs": [
    {
     "name": "stdout",
     "output_type": "stream",
     "text": [
      "{2, 4, 6, 8, 10}\n"
     ]
    }
   ],
   "source": [
    "# Create a set of squares of numbers from 1 to 5\n",
    "multiply_set = {x * 2 for x in my_set}\n",
    "\n",
    "# Print the set\n",
    "print(multiply_set)"
   ]
  },
  {
   "cell_type": "markdown",
   "id": "ea8c1642-3277-43c3-83f7-f7171c92ef0b",
   "metadata": {},
   "source": [
    "#### 28. Create a set of random numbers."
   ]
  },
  {
   "cell_type": "code",
   "execution_count": 34,
   "id": "450e37b1-1bf9-411a-9097-9ca200fc261d",
   "metadata": {},
   "outputs": [
    {
     "name": "stdout",
     "output_type": "stream",
     "text": [
      "{1, 2, 4, 5}\n"
     ]
    }
   ],
   "source": [
    "import random\n",
    "\n",
    "# Set the seed for reproducibility (optional)\n",
    "random.seed(42)\n",
    "\n",
    "# Create a set of 5 random numbers between 1 and 10\n",
    "random_set = {random.randint(1, 10) for _ in range(5)}\n",
    "\n",
    "# Print the set of random numbers\n",
    "print(random_set)"
   ]
  },
  {
   "cell_type": "markdown",
   "id": "f84204fe-73e7-4342-a16b-48c9c463feb2",
   "metadata": {},
   "source": [
    "#### 29. Check if a set is empty"
   ]
  },
  {
   "cell_type": "code",
   "execution_count": 37,
   "id": "d8f9a1d3-d178-4e7a-8070-5ee8bc593b30",
   "metadata": {},
   "outputs": [
    {
     "name": "stdout",
     "output_type": "stream",
     "text": [
      "The set is empty.\n"
     ]
    }
   ],
   "source": [
    "# Create an empty set\n",
    "empty_set = set()\n",
    "\n",
    "# Check if the set is empty using len()\n",
    "if len(empty_set) == 0:\n",
    "    print(\"The set is empty.\")\n",
    "else:\n",
    "    print(\"The set is not empty.\")"
   ]
  },
  {
   "cell_type": "markdown",
   "id": "ea980793-c42f-4ebf-871e-323908875a69",
   "metadata": {},
   "source": [
    "#### 30. Create a nested set (hint: use frozenset).\n"
   ]
  },
  {
   "cell_type": "code",
   "execution_count": 38,
   "id": "8559705a-3b73-48e7-89d0-976383c7c667",
   "metadata": {},
   "outputs": [
    {
     "name": "stdout",
     "output_type": "stream",
     "text": [
      "{frozenset({1, 2, 3}), frozenset({'a', 'b', 'c'})}\n"
     ]
    }
   ],
   "source": [
    "# Create nested sets using frozenset\n",
    "nested_set = {frozenset({1, 2, 3}), frozenset({'a', 'b', 'c'})}\n",
    "\n",
    "# Print the nested set\n",
    "print(nested_set)"
   ]
  },
  {
   "cell_type": "markdown",
   "id": "cf240583-accc-4fcd-9363-103e346221f9",
   "metadata": {},
   "source": [
    "### 31. Remove an element from a set using the discard method."
   ]
  },
  {
   "cell_type": "code",
   "execution_count": 39,
   "id": "4e2673ed-9988-49ae-94a3-209ff2801d2c",
   "metadata": {},
   "outputs": [
    {
     "name": "stdout",
     "output_type": "stream",
     "text": [
      "{1, 2, 4, 5}\n"
     ]
    }
   ],
   "source": [
    "# Create a set\n",
    "my_set = {1, 2, 3, 4, 5}\n",
    "\n",
    "# Remove an element using discard()\n",
    "my_set.discard(3)\n",
    "\n",
    "# Print the updated set\n",
    "print(my_set)"
   ]
  },
  {
   "cell_type": "markdown",
   "id": "2cb938fc-9d89-47cd-b9b7-80c800590bda",
   "metadata": {},
   "source": [
    "32. Compare two sets.\n",
    "33. Create a set from a string.\n",
    "34. Convert a set of strings to a set of integers.\n",
    "35. Convert a set of integers to a set of strings.\n",
    "36. Create a set from a tuple.\n",
    "37. Convert a set to a tuple.\n",
    "38. Find the maximum value in a set.\n",
    "39. Find the minimum value in a set.\n",
    "40. Create a set from user input."
   ]
  },
  {
   "cell_type": "code",
   "execution_count": 41,
   "id": "ac2877b2-b9be-4bc8-876f-4fa92b872c29",
   "metadata": {},
   "outputs": [
    {
     "name": "stdout",
     "output_type": "stream",
     "text": [
      "Are the sets equal? False\n",
      "Is set1 a subset of set2? False\n",
      "Is set1 a superset of set2? False\n"
     ]
    }
   ],
   "source": [
    "# 32. Compare two sets.\n",
    "\n",
    "set1 = {1, 2, 3, 4, 5}\n",
    "set2 = {3, 4, 5, 6, 7}\n",
    "\n",
    "# Check if two sets are equal\n",
    "are_equal = set1 == set2\n",
    "\n",
    "# Check if one set is a subset of another\n",
    "is_subset = set1.issubset(set2)\n",
    "\n",
    "# Check if one set is a superset of another\n",
    "is_superset = set1.issuperset(set2)\n",
    "\n",
    "print(\"Are the sets equal?\", are_equal)\n",
    "print(\"Is set1 a subset of set2?\", is_subset)\n",
    "print(\"Is set1 a superset of set2?\", is_superset)"
   ]
  },
  {
   "cell_type": "code",
   "execution_count": 42,
   "id": "bf0cfbfd-4f0e-49bb-b193-b3014c438d35",
   "metadata": {},
   "outputs": [
    {
     "name": "stdout",
     "output_type": "stream",
     "text": [
      "{'e', 'h', 'l', 'o'}\n"
     ]
    }
   ],
   "source": [
    "# 33. Create a set from a string.\n",
    "\n",
    "string_set = set(\"hello\")\n",
    "print(string_set)"
   ]
  },
  {
   "cell_type": "code",
   "execution_count": 43,
   "id": "21165aae-ce7e-48bd-8bb3-48ed9c701e9c",
   "metadata": {},
   "outputs": [
    {
     "name": "stdout",
     "output_type": "stream",
     "text": [
      "{1, 2, 3}\n"
     ]
    }
   ],
   "source": [
    "# 34. Convert a set of strings to a set of integers.\n",
    "\n",
    "string_set = {\"1\", \"2\", \"3\"}\n",
    "int_set = set(map(int, string_set))\n",
    "print(int_set)"
   ]
  },
  {
   "cell_type": "code",
   "execution_count": 44,
   "id": "6f5684ba-9fb3-4ea6-946f-bea658f128af",
   "metadata": {},
   "outputs": [
    {
     "name": "stdout",
     "output_type": "stream",
     "text": [
      "{'1', '3', '2'}\n"
     ]
    }
   ],
   "source": [
    "# 35. Convert a set of integers to a set of strings.\n",
    "\n",
    "int_set = {1, 2, 3}\n",
    "string_set = set(map(str, int_set))\n",
    "print(string_set)"
   ]
  },
  {
   "cell_type": "code",
   "execution_count": 45,
   "id": "9edc48ad-db7b-4c2f-bef5-ab8bbc1782fb",
   "metadata": {},
   "outputs": [
    {
     "name": "stdout",
     "output_type": "stream",
     "text": [
      "{1, 2, 3, 4, 5}\n"
     ]
    }
   ],
   "source": [
    "# 36. Create a set from a tuple.\n",
    "\n",
    "my_tuple = (1, 2, 3, 4, 5)\n",
    "tuple_set = set(my_tuple)\n",
    "print(tuple_set)"
   ]
  },
  {
   "cell_type": "code",
   "execution_count": 46,
   "id": "3608db9c-ea38-4d60-b305-3f38d82e7ba6",
   "metadata": {},
   "outputs": [
    {
     "name": "stdout",
     "output_type": "stream",
     "text": [
      "(1, 2, 3, 4, 5)\n"
     ]
    }
   ],
   "source": [
    "# 37. Convert a set to a tuple.\n",
    "\n",
    "my_set = {1, 2, 3, 4, 5}\n",
    "set_tuple = tuple(my_set)\n",
    "print(set_tuple)"
   ]
  },
  {
   "cell_type": "code",
   "execution_count": 48,
   "id": "91f7a5f8-4606-4b26-a218-27b8920a4937",
   "metadata": {},
   "outputs": [
    {
     "name": "stdout",
     "output_type": "stream",
     "text": [
      "Maximum value: 5\n"
     ]
    }
   ],
   "source": [
    "# 38. Find the maximum value in a set.\n",
    "\n",
    "my_set = {1, 2, 3, 4, 5}\n",
    "max_value = max(my_set)\n",
    "print(\"Maximum value:\", max_value)"
   ]
  },
  {
   "cell_type": "code",
   "execution_count": 49,
   "id": "40f0b099-20bd-42b3-a195-d132fb2deff7",
   "metadata": {},
   "outputs": [
    {
     "name": "stdout",
     "output_type": "stream",
     "text": [
      "Minimum value: 1\n"
     ]
    }
   ],
   "source": [
    "# 39. Find the minimum value in a set.\n",
    "\n",
    "my_set = {1, 2, 3, 4, 5}\n",
    "min_value = min(my_set)\n",
    "print(\"Minimum value:\", min_value)"
   ]
  },
  {
   "cell_type": "code",
   "execution_count": 54,
   "id": "383e0602-2cab-47d5-bc73-55af9aa35f8f",
   "metadata": {},
   "outputs": [
    {
     "name": "stdin",
     "output_type": "stream",
     "text": [
      "Enter elements separated by spaces:  5\n"
     ]
    },
    {
     "name": "stdout",
     "output_type": "stream",
     "text": [
      "User set: {5}\n"
     ]
    }
   ],
   "source": [
    "##### 40. Create a set from user input.\n",
    "\n",
    "user_input = input(\"Enter elements separated by spaces: \")\n",
    "user_set = set(map(int, user_input.split()))\n",
    "print(\"User set:\", user_set)"
   ]
  },
  {
   "cell_type": "markdown",
   "id": "2fb9f35c-af3b-47f9-a189-243de4c96fed",
   "metadata": {},
   "source": [
    " 41. Check if the intersection of two sets is empty.\n",
    "42. Create a set of the first 5 Fibonacci numbers.\n",
    "43. Remove duplicates from a list using sets.\n",
    "44. Check if two sets have the same elements, regardless of their count.\n",
    "45. Create a set of the first `n` powers of 2.\n",
    "46. Find the common elements between a set and a list.\n",
    "47. Create a set of the first `n` triangular numbers."
   ]
  },
  {
   "cell_type": "code",
   "execution_count": 55,
   "id": "eabcfa0a-6a1c-4633-8183-bbb7e853dfd2",
   "metadata": {},
   "outputs": [
    {
     "name": "stdout",
     "output_type": "stream",
     "text": [
      "Is the intersection empty? False\n"
     ]
    }
   ],
   "source": [
    "set1 = {1, 2, 3, 4, 5}\n",
    "set2 = {4, 5, 6, 7, 8}\n",
    "\n",
    "# Check if the intersection is empty\n",
    "is_intersection_empty = set1.isdisjoint(set2)\n",
    "print(\"Is the intersection empty?\", is_intersection_empty)"
   ]
  },
  {
   "cell_type": "code",
   "execution_count": null,
   "id": "090164cb-4caf-4017-b27e-2ed0733c6e8a",
   "metadata": {},
   "outputs": [],
   "source": [
    "# 42. Create a set of the first 5 Fibonacci numbers.\n",
    "\n",
    "def generate_fibonacci(n):\n",
    "    fib_set = {0, 1}\n",
    "    while len(fib_set) < n:\n",
    "        fib_set.add(sum(list(fib_set)[-2:]))\n",
    "    return fib_set\n",
    "\n",
    "fibonacci_set = generate_fibonacci(5)\n",
    "print(\"Set of the first 5 Fibonacci numbers:\", fibonacci_set)"
   ]
  },
  {
   "cell_type": "code",
   "execution_count": 1,
   "id": "9db29070-064f-4b87-8d86-0c552ff6fdf5",
   "metadata": {},
   "outputs": [
    {
     "name": "stdout",
     "output_type": "stream",
     "text": [
      "List with duplicates removed: [1, 2, 3, 4, 5]\n"
     ]
    }
   ],
   "source": [
    "# 43. Remove duplicates from a list using sets.\n",
    "\n",
    "my_list = [1, 2, 2, 3, 4, 4, 5]\n",
    "unique_set = set(my_list)\n",
    "unique_list = list(unique_set)\n",
    "print(\"List with duplicates removed:\", unique_list)"
   ]
  },
  {
   "cell_type": "code",
   "execution_count": 2,
   "id": "d55f18d3-93b8-49fd-b326-0a13a11f68ad",
   "metadata": {},
   "outputs": [
    {
     "name": "stdout",
     "output_type": "stream",
     "text": [
      "Do the sets have the same elements? True\n"
     ]
    }
   ],
   "source": [
    "# 44. Check if two sets have the same elements, regardless of their count.\n",
    "\n",
    "set1 = {1, 2, 3, 4, 5}\n",
    "set2 = {5, 4, 3, 2, 1, 1, 2, 3, 4}\n",
    "\n",
    "# Check if sets have the same elements\n",
    "have_same_elements = set1 == set2\n",
    "print(\"Do the sets have the same elements?\", have_same_elements)"
   ]
  },
  {
   "cell_type": "code",
   "execution_count": 3,
   "id": "7152ab32-6dd8-4191-98af-a3147279771d",
   "metadata": {},
   "outputs": [
    {
     "name": "stdout",
     "output_type": "stream",
     "text": [
      "Set of the first 5 powers of 2: {1, 2, 4, 8, 16}\n"
     ]
    }
   ],
   "source": [
    "# 45. Create a set of the first n powers of 2.\n",
    "\n",
    "n = 5\n",
    "powers_of_2_set = {2**i for i in range(n)}\n",
    "print(\"Set of the first\", n, \"powers of 2:\", powers_of_2_set)"
   ]
  },
  {
   "cell_type": "code",
   "execution_count": 4,
   "id": "f7f660a1-a327-46ea-9cc2-eec582582607",
   "metadata": {},
   "outputs": [
    {
     "name": "stdout",
     "output_type": "stream",
     "text": [
      "Common elements between set and list: {4, 5}\n"
     ]
    }
   ],
   "source": [
    "# 6. Find the common elements between a set and a list.\n",
    "\n",
    "my_set = {1, 2, 3, 4, 5}\n",
    "my_list = [4, 5, 6, 7, 8]\n",
    "\n",
    "common_elements = set(my_list).intersection(my_set)\n",
    "print(\"Common elements between set and list:\", common_elements)"
   ]
  },
  {
   "cell_type": "code",
   "execution_count": 5,
   "id": "a9ba757e-fff7-4b6f-a9fc-99accc8dff36",
   "metadata": {},
   "outputs": [
    {
     "name": "stdout",
     "output_type": "stream",
     "text": [
      "Set of the first 5 triangular numbers: {1, 3, 6, 10, 15}\n"
     ]
    }
   ],
   "source": [
    "# 47. Create a set of the first n triangular numbers.\n",
    "\n",
    "def generate_triangular_numbers(n):\n",
    "    triangular_set = set()\n",
    "    for i in range(1, n + 1):\n",
    "        triangular_set.add(i * (i + 1) // 2)\n",
    "    return triangular_set\n",
    "\n",
    "triangular_numbers_set = generate_triangular_numbers(5)\n",
    "print(\"Set of the first 5 triangular numbers:\", triangular_numbers_set)"
   ]
  },
  {
   "cell_type": "code",
   "execution_count": 6,
   "id": "add212ec-b725-414c-b3ba-f9ce6e0e1d69",
   "metadata": {},
   "outputs": [
    {
     "name": "stdout",
     "output_type": "stream",
     "text": [
      "Is subset present in set1? True\n"
     ]
    }
   ],
   "source": [
    "# 48. Check if a set contains another set as a subset.\n",
    "\n",
    "set1 = {1, 2, 3, 4, 5}\n",
    "subset = {3, 4}\n",
    "\n",
    "# Check if subset is present in set1\n",
    "is_subset = subset.issubset(set1)\n",
    "print(\"Is subset present in set1?\", is_subset)"
   ]
  },
  {
   "cell_type": "code",
   "execution_count": 7,
   "id": "5980b86d-c60f-46ae-a220-f0c5eeb6db73",
   "metadata": {},
   "outputs": [
    {
     "name": "stdout",
     "output_type": "stream",
     "text": [
      "Set of alternating 1s and 0s: {0, 1}\n"
     ]
    }
   ],
   "source": [
    "# 49. Create a set of alternating 1s and 0s of length n.\n",
    "\n",
    "n = 5\n",
    "alternating_set = {1 if i % 2 == 0 else 0 for i in range(n)}\n",
    "print(\"Set of alternating 1s and 0s:\", alternating_set)"
   ]
  },
  {
   "cell_type": "code",
   "execution_count": 9,
   "id": "c5627666-7ef1-4177-97cc-15721390add5",
   "metadata": {},
   "outputs": [
    {
     "name": "stdout",
     "output_type": "stream",
     "text": [
      "Merged set: {1, 2, 3, 4, 5, 6, 7}\n"
     ]
    }
   ],
   "source": [
    "# 50. Merge multiple sets into one.\n",
    "\n",
    "set1 = {1, 2, 3}\n",
    "set2 = {3, 4, 5}\n",
    "set3 = {5, 6, 7}\n",
    "\n",
    "# Merge multiple sets into one\n",
    "merged_set = set1.union(set2, set3)\n",
    "print(\"Merged set:\", merged_set)"
   ]
  },
  {
   "cell_type": "code",
   "execution_count": null,
   "id": "339eb967-01ae-4326-8551-68467cf479e7",
   "metadata": {},
   "outputs": [],
   "source": []
  }
 ],
 "metadata": {
  "kernelspec": {
   "display_name": "Python 3 (ipykernel)",
   "language": "python",
   "name": "python3"
  },
  "language_info": {
   "codemirror_mode": {
    "name": "ipython",
    "version": 3
   },
   "file_extension": ".py",
   "mimetype": "text/x-python",
   "name": "python",
   "nbconvert_exporter": "python",
   "pygments_lexer": "ipython3",
   "version": "3.10.8"
  }
 },
 "nbformat": 4,
 "nbformat_minor": 5
}
